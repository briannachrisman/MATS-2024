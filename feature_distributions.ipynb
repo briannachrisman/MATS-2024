{
 "cells": [
  {
   "cell_type": "markdown",
   "metadata": {},
   "source": [
    "# Setup"
   ]
  },
  {
   "cell_type": "code",
   "execution_count": 1,
   "metadata": {},
   "outputs": [
    {
     "name": "stderr",
     "output_type": "stream",
     "text": [
      "/home/ubuntu/.local/lib/python3.10/site-packages/matplotlib/projections/__init__.py:63: UserWarning: Unable to import Axes3D. This may be due to multiple versions of Matplotlib being installed (e.g. as a system package and as a pip package). As a result, the 3D projection is not available.\n",
      "  warnings.warn(\"Unable to import Axes3D. This may be due to multiple versions of \"\n",
      "/usr/lib/python3/dist-packages/scipy/__init__.py:146: UserWarning: A NumPy version >=1.17.3 and <1.25.0 is required for this version of SciPy (detected version 1.26.4\n",
      "  warnings.warn(f\"A NumPy version >={np_minversion} and <{np_maxversion}\"\n",
      "2024-05-23 13:07:23.731928: I tensorflow/core/util/port.cc:110] oneDNN custom operations are on. You may see slightly different numerical results due to floating-point round-off errors from different computation orders. To turn them off, set the environment variable `TF_ENABLE_ONEDNN_OPTS=0`.\n",
      "2024-05-23 13:07:23.776000: I tensorflow/core/platform/cpu_feature_guard.cc:182] This TensorFlow binary is optimized to use available CPU instructions in performance-critical operations.\n",
      "To enable the following instructions: AVX512F AVX512_VNNI, in other operations, rebuild TensorFlow with the appropriate compiler flags.\n"
     ]
    },
    {
     "data": {
      "text/plain": [
       "<module 'utils.vector_metrics' from '/home/ubuntu/brianna-chrisman/MATS-2024/utils/vector_metrics.py'>"
      ]
     },
     "execution_count": 1,
     "metadata": {},
     "output_type": "execute_result"
    }
   ],
   "source": [
    "#%pip install einops transformers sae_lens sae_vis\n",
    "import einops\n",
    "import os\n",
    "from transformers import AutoModel, AutoTokenizer\n",
    "from sae_lens.toolkit.pretrained_saes import get_gpt2_res_jb_saes, convert_connor_rob_sae_to_our_saelens_format, download_sae_from_hf\n",
    "import numpy as np\n",
    "import torch as t\n",
    "import plotly_express as px\n",
    "import matplotlib.pyplot as plt\n",
    "import matplotlib as mpl\n",
    "from tqdm.notebook import tqdm\n",
    "from scipy import stats\n",
    "from torch.utils.data import Dataset\n",
    "from sae_vis.model_fns import AutoEncoderConfig, AutoEncoder\n",
    "from transformer_lens import utils as tl_utils\n",
    "from transformer_lens.hook_points import (\n",
    "    HookPoint,\n",
    ")\n",
    "\n",
    "from transformer_lens import HookedTransformer, HookedTransformerConfig\n",
    "from transformer_lens.utils import (\n",
    "    load_dataset,\n",
    "    tokenize_and_concatenate,\n",
    "    download_file_from_hf,\n",
    ")\n",
    "\n",
    "from torch.utils.data import DataLoader\n",
    "from transformers import DataCollatorForLanguageModeling\n",
    "device = t.device(\"cuda\" if t.cuda.is_available() else \"cpu\")\n",
    "from transformer_lens import HookedSAE, HookedSAEConfig\n",
    "from transformer_lens.utils import download_file_from_hf\n",
    "\n",
    "\n",
    "from importlib import reload\n",
    "from utils.autoencoder import AutoEncoder\n",
    "import matplotlib as mpl\n",
    "cmap = mpl.colormaps[\"Spectral\"]\n",
    "\n",
    "from utils import SAE_metrics\n",
    "from utils import vector_metrics\n",
    "from utils import utils \n",
    "\n",
    "\n",
    "import torch \n",
    "reload(utils)\n",
    "reload(SAE_metrics)\n",
    "reload(vector_metrics)\n"
   ]
  },
  {
   "cell_type": "markdown",
   "metadata": {},
   "source": [
    "# Load SAE & Model"
   ]
  },
  {
   "cell_type": "code",
   "execution_count": 2,
   "metadata": {},
   "outputs": [
    {
     "name": "stdout",
     "output_type": "stream",
     "text": [
      "{'act_name': 'blocks.1.attn.hook_z',\n",
      " 'act_size': 512,\n",
      " 'anthropic_resample_last': 25000,\n",
      " 'batch_size': 4096,\n",
      " 'beta1': 0.9,\n",
      " 'beta2': 0.99,\n",
      " 'buffer_batches': 12288,\n",
      " 'buffer_mult': 384,\n",
      " 'buffer_size': 1572864,\n",
      " 'concat_heads': True,\n",
      " 'dead_direction_cutoff': 1e-07,\n",
      " 'device': 'cuda',\n",
      " 'dict_mult': 32,\n",
      " 'dict_size': 16384,\n",
      " 'enc_dtype': 'fp32',\n",
      " 'head': 'cat',\n",
      " 'l1_coeff': 2.0,\n",
      " 'layer': 1,\n",
      " 'lr': 0.001,\n",
      " 'model_batch_size': 512,\n",
      " 'model_name': 'gelu-2l',\n",
      " 'name': 'gelu-2l_1_16384_z',\n",
      " 'num_resamples': 4,\n",
      " 'num_tokens': 2000000000,\n",
      " 're_init_every': 50000,\n",
      " 'reinit': 'reinit',\n",
      " 'resample_factor': 0.01,\n",
      " 'save_state_dict_every': 50000,\n",
      " 'seed': 49,\n",
      " 'seq_len': 128,\n",
      " 'site': 'z',\n",
      " 'wandb_entity': 'ckkissane',\n",
      " 'wandb_project_name': 'concat-z-gelu-21-l1-lr-sweep-3'}\n",
      "Loaded pretrained model gelu-2l into HookedTransformer\n",
      "Moving model to device:  cuda\n"
     ]
    }
   ],
   "source": [
    "auto_encoder_run = \"concat-z-gelu-21-l1-lr-sweep-3/gelu-2l_L1_Hcat_z_lr1.00e-03_l12.00e+00_ds16384_bs4096_dc1.00e-07_rie50000_nr4_v78\"\n",
    "sae = AutoEncoder.load_from_hf(auto_encoder_run)\n",
    "model = HookedTransformer.from_pretrained(\"gelu-2l\").to(device)"
   ]
  },
  {
   "cell_type": "code",
   "execution_count": 3,
   "metadata": {},
   "outputs": [
    {
     "data": {
      "text/plain": [
       "tensor([[0.1365, 0.1563, 0.1192,  ..., 0.1673, 0.0468, 0.1531],\n",
       "        [0.0560, 0.3308, 0.1041,  ..., 0.0830, 0.0554, 0.1194],\n",
       "        [0.4276, 0.0736, 0.1790,  ..., 0.1209, 0.0434, 0.1782],\n",
       "        ...,\n",
       "        [0.0874, 0.0992, 0.1020,  ..., 0.0821, 0.0469, 0.1132],\n",
       "        [0.0224, 0.0681, 0.0429,  ..., 0.0153, 0.6039, 0.0863],\n",
       "        [0.1716, 0.0837, 0.1612,  ..., 0.4079, 0.0374, 0.1248]],\n",
       "       device='cuda:0')"
      ]
     },
     "execution_count": 3,
     "metadata": {},
     "output_type": "execute_result"
    }
   ],
   "source": [
    "# Split tensor into 8 equal parts\n",
    "W_dec_splits = torch.split(sae.W_dec, model.cfg.d_head, dim=1)\n",
    "# Turn list of tensors into a single tensor, add dimension\n",
    "W_dec_splits = torch.stack(W_dec_splits, dim=0)\n",
    "contributions = W_dec_splits.norm(dim=2)\n",
    "contributions = contributions/contributions.sum(dim=0, keepdim=True)\n",
    "contributions"
   ]
  },
  {
   "cell_type": "code",
   "execution_count": 123,
   "metadata": {},
   "outputs": [
    {
     "data": {
      "image/png": "[encoded data removed]",
      "text/plain": [
       "<Figure size 640x480 with 1 Axes>"
      ]
     },
     "metadata": {},
     "output_type": "display_data"
    }
   ],
   "source": [
    "plt.hist(contributions.max(dim=0).values.cpu().detach().numpy(), bins=100)\n",
    "plt.xlabel('Max contribution from an individual head')\n",
    "plt.ylabel('Number of features')\n",
    "plt.show()"
   ]
  },
  {
   "cell_type": "code",
   "execution_count": 59,
   "metadata": {},
   "outputs": [
    {
     "data": {
      "application/vnd.jupyter.widget-view+json": {
       "model_id": "34b0f5f98f2048d7aae3215e5865e6cc",
       "version_major": 2,
       "version_minor": 0
      },
      "text/plain": [
       "Map (num_proc=10):   0%|          | 0/1000 [00:00<?, ? examples/s]"
      ]
     },
     "metadata": {},
     "output_type": "display_data"
    }
   ],
   "source": [
    "# Load Pile data\n",
    "data = load_dataset(\"NeelNanda/pile-10k\", split=\"train[:1000]\")\n",
    "tokenized_data = tokenize_and_concatenate(data, model.tokenizer, max_length=32)\n",
    "tokenized_data = tokenized_data.shuffle(42)\n",
    "all_tokens = tokenized_data[\"tokens\"][:1024]\n",
    "\n",
    "dataset = utils.TokenDataset(all_tokens)\n",
    "del tokenized_data, data, all_tokens"
   ]
  },
  {
   "cell_type": "code",
   "execution_count": 60,
   "metadata": {},
   "outputs": [
    {
     "name": "stdout",
     "output_type": "stream",
     "text": [
      "Loaded pretrained model gelu-2l into HookedTransformer\n",
      "Moving model to device:  cuda\n"
     ]
    }
   ],
   "source": [
    "# Load LLM and SAE\n",
    "model = HookedTransformer.from_pretrained(\"gelu-2l\").to(device)\n",
    "#hook_points = [h.replace('attn.hook_z', 'hook_resid_pre') for h in gpt2_sae.keys()]"
   ]
  },
  {
   "cell_type": "code",
   "execution_count": 151,
   "metadata": {},
   "outputs": [
    {
     "name": "stdout",
     "output_type": "stream",
     "text": [
      "tensor(0.0059, device='cuda:0')\n",
      "tensor(0.0402, device='cuda:0')\n"
     ]
    }
   ],
   "source": [
    "_, _, acts, _ , _ = sae.forward(t.rand(sae.W_enc.shape[0]).to(device))\n",
    "acts2 = t.rand(sae.W_enc.shape[0]).to(device) @ sae.W_enc + sae.b_enc\n",
    "print((acts>0).float().mean())\n",
    "print((acts2>0).float().mean())\n"
   ]
  },
  {
   "cell_type": "code",
   "execution_count": 156,
   "metadata": {},
   "outputs": [
    {
     "data": {
      "text/plain": [
       "torch.Size([16384])"
      ]
     },
     "execution_count": 156,
     "metadata": {},
     "output_type": "execute_result"
    }
   ],
   "source": [
    "sae.b_enc.shape"
   ]
  },
  {
   "cell_type": "markdown",
   "metadata": {},
   "source": [
    "# Look at Activation Contributions"
   ]
  },
  {
   "cell_type": "code",
   "execution_count": 159,
   "metadata": {},
   "outputs": [
    {
     "data": {
      "text/plain": [
       "torch.Size([512])"
      ]
     },
     "execution_count": 159,
     "metadata": {},
     "output_type": "execute_result"
    }
   ],
   "source": [
    "sae.b_dec.shape"
   ]
  },
  {
   "cell_type": "code",
   "execution_count": 180,
   "metadata": {},
   "outputs": [
    {
     "ename": "IndexError",
     "evalue": "The shape of the mask [64, 32, 1, 16384] at index 2 does not match the shape of the indexed tensor [64, 32, 8, 16384] at index 2",
     "output_type": "error",
     "traceback": [
      "\u001b[0;31m---------------------------------------------------------------------------\u001b[0m",
      "\u001b[0;31mIndexError\u001b[0m                                Traceback (most recent call last)",
      "\u001b[0;32m/tmp/ipykernel_15382/591881022.py\u001b[0m in \u001b[0;36m<module>\u001b[0;34m\u001b[0m\n\u001b[1;32m     22\u001b[0m \u001b[0;34m\u001b[0m\u001b[0m\n\u001b[1;32m     23\u001b[0m \u001b[0;32mfor\u001b[0m \u001b[0mtokens\u001b[0m\u001b[0;34m,\u001b[0m \u001b[0mi\u001b[0m \u001b[0;32min\u001b[0m \u001b[0mDataLoader\u001b[0m\u001b[0;34m(\u001b[0m\u001b[0mdataset\u001b[0m\u001b[0;34m,\u001b[0m \u001b[0mbatch_size\u001b[0m\u001b[0;34m=\u001b[0m\u001b[0;36m64\u001b[0m\u001b[0;34m,\u001b[0m \u001b[0mshuffle\u001b[0m\u001b[0;34m=\u001b[0m\u001b[0;32mTrue\u001b[0m\u001b[0;34m)\u001b[0m\u001b[0;34m:\u001b[0m\u001b[0;34m\u001b[0m\u001b[0;34m\u001b[0m\u001b[0m\n\u001b[0;32m---> 24\u001b[0;31m     model.run_with_hooks(\n\u001b[0m\u001b[1;32m     25\u001b[0m         \u001b[0mtokens\u001b[0m\u001b[0;34m,\u001b[0m\u001b[0;34m\u001b[0m\u001b[0;34m\u001b[0m\u001b[0m\n\u001b[1;32m     26\u001b[0m         \u001b[0mreturn_type\u001b[0m\u001b[0;34m=\u001b[0m\u001b[0;32mNone\u001b[0m\u001b[0;34m,\u001b[0m \u001b[0;31m# For efficiency, we don't need to calculate the logits\u001b[0m\u001b[0;34m\u001b[0m\u001b[0;34m\u001b[0m\u001b[0m\n",
      "\u001b[0;32m~/.local/lib/python3.10/site-packages/transformer_lens/hook_points.py\u001b[0m in \u001b[0;36mrun_with_hooks\u001b[0;34m(self, fwd_hooks, bwd_hooks, reset_hooks_end, clear_contexts, *model_args, **model_kwargs)\u001b[0m\n\u001b[1;32m    356\u001b[0m \u001b[0;34m\u001b[0m\u001b[0m\n\u001b[1;32m    357\u001b[0m         \u001b[0;32mwith\u001b[0m \u001b[0mself\u001b[0m\u001b[0;34m.\u001b[0m\u001b[0mhooks\u001b[0m\u001b[0;34m(\u001b[0m\u001b[0mfwd_hooks\u001b[0m\u001b[0;34m,\u001b[0m \u001b[0mbwd_hooks\u001b[0m\u001b[0;34m,\u001b[0m \u001b[0mreset_hooks_end\u001b[0m\u001b[0;34m,\u001b[0m \u001b[0mclear_contexts\u001b[0m\u001b[0;34m)\u001b[0m \u001b[0;32mas\u001b[0m \u001b[0mhooked_model\u001b[0m\u001b[0;34m:\u001b[0m\u001b[0;34m\u001b[0m\u001b[0;34m\u001b[0m\u001b[0m\n\u001b[0;32m--> 358\u001b[0;31m             \u001b[0;32mreturn\u001b[0m \u001b[0mhooked_model\u001b[0m\u001b[0;34m.\u001b[0m\u001b[0mforward\u001b[0m\u001b[0;34m(\u001b[0m\u001b[0;34m*\u001b[0m\u001b[0mmodel_args\u001b[0m\u001b[0;34m,\u001b[0m \u001b[0;34m**\u001b[0m\u001b[0mmodel_kwargs\u001b[0m\u001b[0;34m)\u001b[0m\u001b[0;34m\u001b[0m\u001b[0;34m\u001b[0m\u001b[0m\n\u001b[0m\u001b[1;32m    359\u001b[0m \u001b[0;34m\u001b[0m\u001b[0m\n\u001b[1;32m    360\u001b[0m     def add_caching_hooks(\n",
      "\u001b[0;32m~/.local/lib/python3.10/site-packages/transformer_lens/HookedTransformer.py\u001b[0m in \u001b[0;36mforward\u001b[0;34m(self, input, return_type, loss_per_token, prepend_bos, padding_side, start_at_layer, tokens, shortformer_pos_embed, attention_mask, stop_at_layer, past_kv_cache)\u001b[0m\n\u001b[1;32m    548\u001b[0m                     )\n\u001b[1;32m    549\u001b[0m \u001b[0;34m\u001b[0m\u001b[0m\n\u001b[0;32m--> 550\u001b[0;31m                 residual = block(\n\u001b[0m\u001b[1;32m    551\u001b[0m                     \u001b[0mresidual\u001b[0m\u001b[0;34m,\u001b[0m\u001b[0;34m\u001b[0m\u001b[0;34m\u001b[0m\u001b[0m\n\u001b[1;32m    552\u001b[0m                     \u001b[0;31m# Cache contains a list of HookedTransformerKeyValueCache objects, one for each\u001b[0m\u001b[0;34m\u001b[0m\u001b[0;34m\u001b[0m\u001b[0m\n",
      "\u001b[0;32m/usr/lib/python3/dist-packages/torch/nn/modules/module.py\u001b[0m in \u001b[0;36m_call_impl\u001b[0;34m(self, *args, **kwargs)\u001b[0m\n\u001b[1;32m   1499\u001b[0m                 \u001b[0;32mor\u001b[0m \u001b[0m_global_backward_pre_hooks\u001b[0m \u001b[0;32mor\u001b[0m \u001b[0m_global_backward_hooks\u001b[0m\u001b[0;34m\u001b[0m\u001b[0;34m\u001b[0m\u001b[0m\n\u001b[1;32m   1500\u001b[0m                 or _global_forward_hooks or _global_forward_pre_hooks):\n\u001b[0;32m-> 1501\u001b[0;31m             \u001b[0;32mreturn\u001b[0m \u001b[0mforward_call\u001b[0m\u001b[0;34m(\u001b[0m\u001b[0;34m*\u001b[0m\u001b[0margs\u001b[0m\u001b[0;34m,\u001b[0m \u001b[0;34m**\u001b[0m\u001b[0mkwargs\u001b[0m\u001b[0;34m)\u001b[0m\u001b[0;34m\u001b[0m\u001b[0;34m\u001b[0m\u001b[0m\n\u001b[0m\u001b[1;32m   1502\u001b[0m         \u001b[0;31m# Do not call functions when jit is used\u001b[0m\u001b[0;34m\u001b[0m\u001b[0;34m\u001b[0m\u001b[0m\n\u001b[1;32m   1503\u001b[0m         \u001b[0mfull_backward_hooks\u001b[0m\u001b[0;34m,\u001b[0m \u001b[0mnon_full_backward_hooks\u001b[0m \u001b[0;34m=\u001b[0m \u001b[0;34m[\u001b[0m\u001b[0;34m]\u001b[0m\u001b[0;34m,\u001b[0m \u001b[0;34m[\u001b[0m\u001b[0;34m]\u001b[0m\u001b[0;34m\u001b[0m\u001b[0;34m\u001b[0m\u001b[0m\n",
      "\u001b[0;32m~/.local/lib/python3.10/site-packages/transformer_lens/components.py\u001b[0m in \u001b[0;36mforward\u001b[0;34m(self, resid_pre, shortformer_pos_embed, past_kv_cache_entry, attention_mask)\u001b[0m\n\u001b[1;32m   1583\u001b[0m             \u001b[0;31m# queries, keys and values, independently.\u001b[0m\u001b[0;34m\u001b[0m\u001b[0;34m\u001b[0m\u001b[0m\n\u001b[1;32m   1584\u001b[0m             \u001b[0;31m# Then take the layer norm of these inputs, and pass these to the attention module.\u001b[0m\u001b[0;34m\u001b[0m\u001b[0;34m\u001b[0m\u001b[0m\n\u001b[0;32m-> 1585\u001b[0;31m             self.attn(\n\u001b[0m\u001b[1;32m   1586\u001b[0m                 \u001b[0mquery_input\u001b[0m\u001b[0;34m=\u001b[0m\u001b[0mself\u001b[0m\u001b[0;34m.\u001b[0m\u001b[0mln1\u001b[0m\u001b[0;34m(\u001b[0m\u001b[0mquery_input\u001b[0m\u001b[0;34m)\u001b[0m\u001b[0;34m\u001b[0m\u001b[0;34m\u001b[0m\u001b[0m\n\u001b[1;32m   1587\u001b[0m                 \u001b[0;34m+\u001b[0m \u001b[0;34m(\u001b[0m\u001b[0;36m0.0\u001b[0m \u001b[0;32mif\u001b[0m \u001b[0mshortformer_pos_embed\u001b[0m \u001b[0;32mis\u001b[0m \u001b[0;32mNone\u001b[0m \u001b[0;32melse\u001b[0m \u001b[0mshortformer_pos_embed\u001b[0m\u001b[0;34m)\u001b[0m\u001b[0;34m,\u001b[0m\u001b[0;34m\u001b[0m\u001b[0;34m\u001b[0m\u001b[0m\n",
      "\u001b[0;32m/usr/lib/python3/dist-packages/torch/nn/modules/module.py\u001b[0m in \u001b[0;36m_call_impl\u001b[0;34m(self, *args, **kwargs)\u001b[0m\n\u001b[1;32m   1499\u001b[0m                 \u001b[0;32mor\u001b[0m \u001b[0m_global_backward_pre_hooks\u001b[0m \u001b[0;32mor\u001b[0m \u001b[0m_global_backward_hooks\u001b[0m\u001b[0;34m\u001b[0m\u001b[0;34m\u001b[0m\u001b[0m\n\u001b[1;32m   1500\u001b[0m                 or _global_forward_hooks or _global_forward_pre_hooks):\n\u001b[0;32m-> 1501\u001b[0;31m             \u001b[0;32mreturn\u001b[0m \u001b[0mforward_call\u001b[0m\u001b[0;34m(\u001b[0m\u001b[0;34m*\u001b[0m\u001b[0margs\u001b[0m\u001b[0;34m,\u001b[0m \u001b[0;34m**\u001b[0m\u001b[0mkwargs\u001b[0m\u001b[0;34m)\u001b[0m\u001b[0;34m\u001b[0m\u001b[0;34m\u001b[0m\u001b[0m\n\u001b[0m\u001b[1;32m   1502\u001b[0m         \u001b[0;31m# Do not call functions when jit is used\u001b[0m\u001b[0;34m\u001b[0m\u001b[0;34m\u001b[0m\u001b[0m\n\u001b[1;32m   1503\u001b[0m         \u001b[0mfull_backward_hooks\u001b[0m\u001b[0;34m,\u001b[0m \u001b[0mnon_full_backward_hooks\u001b[0m \u001b[0;34m=\u001b[0m \u001b[0;34m[\u001b[0m\u001b[0;34m]\u001b[0m\u001b[0;34m,\u001b[0m \u001b[0;34m[\u001b[0m\u001b[0;34m]\u001b[0m\u001b[0;34m\u001b[0m\u001b[0;34m\u001b[0m\u001b[0m\n",
      "\u001b[0;32m~/.local/lib/python3.10/site-packages/transformer_lens/components.py\u001b[0m in \u001b[0;36mforward\u001b[0;34m(self, query_input, key_input, value_input, past_kv_cache_entry, additive_attention_mask, attention_mask)\u001b[0m\n\u001b[1;32m    585\u001b[0m         \u001b[0mpattern\u001b[0m \u001b[0;34m=\u001b[0m \u001b[0mpattern\u001b[0m\u001b[0;34m.\u001b[0m\u001b[0mto\u001b[0m\u001b[0;34m(\u001b[0m\u001b[0mself\u001b[0m\u001b[0;34m.\u001b[0m\u001b[0mcfg\u001b[0m\u001b[0;34m.\u001b[0m\u001b[0mdtype\u001b[0m\u001b[0;34m)\u001b[0m\u001b[0;34m\u001b[0m\u001b[0;34m\u001b[0m\u001b[0m\n\u001b[1;32m    586\u001b[0m         \u001b[0mpattern\u001b[0m \u001b[0;34m=\u001b[0m \u001b[0mpattern\u001b[0m\u001b[0;34m.\u001b[0m\u001b[0mto\u001b[0m\u001b[0;34m(\u001b[0m\u001b[0mv\u001b[0m\u001b[0;34m.\u001b[0m\u001b[0mdevice\u001b[0m\u001b[0;34m)\u001b[0m\u001b[0;34m\u001b[0m\u001b[0;34m\u001b[0m\u001b[0m\n\u001b[0;32m--> 587\u001b[0;31m         \u001b[0mz\u001b[0m \u001b[0;34m=\u001b[0m \u001b[0mself\u001b[0m\u001b[0;34m.\u001b[0m\u001b[0mcalculate_z_scores\u001b[0m\u001b[0;34m(\u001b[0m\u001b[0mv\u001b[0m\u001b[0;34m,\u001b[0m \u001b[0mpattern\u001b[0m\u001b[0;34m)\u001b[0m  \u001b[0;31m# [batch, pos, head_index, d_head]\u001b[0m\u001b[0;34m\u001b[0m\u001b[0;34m\u001b[0m\u001b[0m\n\u001b[0m\u001b[1;32m    588\u001b[0m         \u001b[0;32mif\u001b[0m \u001b[0;32mnot\u001b[0m \u001b[0mself\u001b[0m\u001b[0;34m.\u001b[0m\u001b[0mcfg\u001b[0m\u001b[0;34m.\u001b[0m\u001b[0muse_attn_result\u001b[0m\u001b[0;34m:\u001b[0m\u001b[0;34m\u001b[0m\u001b[0;34m\u001b[0m\u001b[0m\n\u001b[1;32m    589\u001b[0m             \u001b[0;32mif\u001b[0m \u001b[0mself\u001b[0m\u001b[0;34m.\u001b[0m\u001b[0mcfg\u001b[0m\u001b[0;34m.\u001b[0m\u001b[0mload_in_4bit\u001b[0m\u001b[0;34m:\u001b[0m\u001b[0;34m\u001b[0m\u001b[0;34m\u001b[0m\u001b[0m\n",
      "\u001b[0;32m~/.local/lib/python3.10/site-packages/transformer_lens/components.py\u001b[0m in \u001b[0;36mcalculate_z_scores\u001b[0;34m(self, v, pattern)\u001b[0m\n\u001b[1;32m    762\u001b[0m         \u001b[0mpattern\u001b[0m\u001b[0;34m:\u001b[0m \u001b[0mFloat\u001b[0m\u001b[0;34m[\u001b[0m\u001b[0mtorch\u001b[0m\u001b[0;34m.\u001b[0m\u001b[0mTensor\u001b[0m\u001b[0;34m,\u001b[0m \u001b[0;34m\"batch head_index query_pos key_pos\"\u001b[0m\u001b[0;34m]\u001b[0m\u001b[0;34m,\u001b[0m\u001b[0;34m\u001b[0m\u001b[0;34m\u001b[0m\u001b[0m\n\u001b[1;32m    763\u001b[0m     ) -> Float[torch.Tensor, \"batch query_pos head_index d_head\"]:\n\u001b[0;32m--> 764\u001b[0;31m         z = self.hook_z(\n\u001b[0m\u001b[1;32m    765\u001b[0m             einsum(\n\u001b[1;32m    766\u001b[0m                 \u001b[0;31m\"\u001b[0m\u001b[0mbatch\u001b[0m \u001b[0mkey_pos\u001b[0m \u001b[0mhead_index\u001b[0m \u001b[0md_head\u001b[0m\u001b[0;34m,\u001b[0m\u001b[0;31m \u001b[0m\u001b[0;31m\\\u001b[0m\u001b[0;34m\u001b[0m\u001b[0;34m\u001b[0m\u001b[0m\n",
      "\u001b[0;32m/usr/lib/python3/dist-packages/torch/nn/modules/module.py\u001b[0m in \u001b[0;36m_call_impl\u001b[0;34m(self, *args, **kwargs)\u001b[0m\n\u001b[1;32m   1545\u001b[0m                     \u001b[0mhook_result\u001b[0m \u001b[0;34m=\u001b[0m \u001b[0mhook\u001b[0m\u001b[0;34m(\u001b[0m\u001b[0mself\u001b[0m\u001b[0;34m,\u001b[0m \u001b[0margs\u001b[0m\u001b[0;34m,\u001b[0m \u001b[0mkwargs\u001b[0m\u001b[0;34m,\u001b[0m \u001b[0mresult\u001b[0m\u001b[0;34m)\u001b[0m\u001b[0;34m\u001b[0m\u001b[0;34m\u001b[0m\u001b[0m\n\u001b[1;32m   1546\u001b[0m                 \u001b[0;32melse\u001b[0m\u001b[0;34m:\u001b[0m\u001b[0;34m\u001b[0m\u001b[0;34m\u001b[0m\u001b[0m\n\u001b[0;32m-> 1547\u001b[0;31m                     \u001b[0mhook_result\u001b[0m \u001b[0;34m=\u001b[0m \u001b[0mhook\u001b[0m\u001b[0;34m(\u001b[0m\u001b[0mself\u001b[0m\u001b[0;34m,\u001b[0m \u001b[0margs\u001b[0m\u001b[0;34m,\u001b[0m \u001b[0mresult\u001b[0m\u001b[0;34m)\u001b[0m\u001b[0;34m\u001b[0m\u001b[0;34m\u001b[0m\u001b[0m\n\u001b[0m\u001b[1;32m   1548\u001b[0m \u001b[0;34m\u001b[0m\u001b[0m\n\u001b[1;32m   1549\u001b[0m                 \u001b[0;32mif\u001b[0m \u001b[0mhook_result\u001b[0m \u001b[0;32mis\u001b[0m \u001b[0;32mnot\u001b[0m \u001b[0;32mNone\u001b[0m\u001b[0;34m:\u001b[0m\u001b[0;34m\u001b[0m\u001b[0;34m\u001b[0m\u001b[0m\n",
      "\u001b[0;32m~/.local/lib/python3.10/site-packages/transformer_lens/hook_points.py\u001b[0m in \u001b[0;36mfull_hook\u001b[0;34m(module, module_input, module_output)\u001b[0m\n\u001b[1;32m     75\u001b[0m             ):  # For a backwards hook, module_output is a tuple of (grad,) - I don't know why.\n\u001b[1;32m     76\u001b[0m                 \u001b[0mmodule_output\u001b[0m \u001b[0;34m=\u001b[0m \u001b[0mmodule_output\u001b[0m\u001b[0;34m[\u001b[0m\u001b[0;36m0\u001b[0m\u001b[0;34m]\u001b[0m\u001b[0;34m\u001b[0m\u001b[0;34m\u001b[0m\u001b[0m\n\u001b[0;32m---> 77\u001b[0;31m             \u001b[0;32mreturn\u001b[0m \u001b[0mhook\u001b[0m\u001b[0;34m(\u001b[0m\u001b[0mmodule_output\u001b[0m\u001b[0;34m,\u001b[0m \u001b[0mhook\u001b[0m\u001b[0;34m=\u001b[0m\u001b[0mself\u001b[0m\u001b[0;34m)\u001b[0m\u001b[0;34m\u001b[0m\u001b[0;34m\u001b[0m\u001b[0m\n\u001b[0m\u001b[1;32m     78\u001b[0m \u001b[0;34m\u001b[0m\u001b[0m\n\u001b[1;32m     79\u001b[0m         full_hook.__name__ = (\n",
      "\u001b[0;32m/tmp/ipykernel_15382/591881022.py\u001b[0m in \u001b[0;36mSAE_hook\u001b[0;34m(activations, hook)\u001b[0m\n\u001b[1;32m     16\u001b[0m                   \"d_head n_head n_features, batch seq_len n_head d_head -> batch seq_len n_head n_features\")\n\u001b[1;32m     17\u001b[0m \u001b[0;34m\u001b[0m\u001b[0m\n\u001b[0;32m---> 18\u001b[0;31m     \u001b[0mdot_prods\u001b[0m\u001b[0;34m[\u001b[0m\u001b[0;34m(\u001b[0m\u001b[0;34m(\u001b[0m\u001b[0mdot_prods\u001b[0m\u001b[0;34m.\u001b[0m\u001b[0msum\u001b[0m\u001b[0;34m(\u001b[0m\u001b[0mdim\u001b[0m\u001b[0;34m=\u001b[0m\u001b[0;36m2\u001b[0m\u001b[0;34m,\u001b[0m \u001b[0mkeepdim\u001b[0m\u001b[0;34m=\u001b[0m\u001b[0;32mTrue\u001b[0m\u001b[0;34m)\u001b[0m\u001b[0;34m+\u001b[0m \u001b[0msae\u001b[0m\u001b[0;34m.\u001b[0m\u001b[0mb_enc\u001b[0m\u001b[0;34m)\u001b[0m\u001b[0;34m<\u001b[0m\u001b[0;36m0\u001b[0m\u001b[0;34m)\u001b[0m\u001b[0;34m]\u001b[0m \u001b[0;34m=\u001b[0m \u001b[0mtorch\u001b[0m\u001b[0;34m.\u001b[0m\u001b[0mnan\u001b[0m\u001b[0;34m\u001b[0m\u001b[0;34m\u001b[0m\u001b[0m\n\u001b[0m\u001b[1;32m     19\u001b[0m     \u001b[0;31m# Append contributions to contributons_all tensor\u001b[0m\u001b[0;34m\u001b[0m\u001b[0;34m\u001b[0m\u001b[0m\n\u001b[1;32m     20\u001b[0m     \u001b[0mcontributions_all\u001b[0m\u001b[0;34m.\u001b[0m\u001b[0mappend\u001b[0m\u001b[0;34m(\u001b[0m\u001b[0mdot_prods\u001b[0m\u001b[0;34m.\u001b[0m\u001b[0mto\u001b[0m\u001b[0;34m(\u001b[0m\u001b[0;34m'cpu'\u001b[0m\u001b[0;34m)\u001b[0m\u001b[0;34m)\u001b[0m\u001b[0;31m#.sum(dim=0).sum(dim=1))\u001b[0m\u001b[0;34m\u001b[0m\u001b[0;34m\u001b[0m\u001b[0m\n",
      "\u001b[0;31mIndexError\u001b[0m: The shape of the mask [64, 32, 1, 16384] at index 2 does not match the shape of the indexed tensor [64, 32, 8, 16384] at index 2"
     ]
    }
   ],
   "source": [
    "# We make a tensor to store the induction score for each head. We put it on the model's device to avoid needing to move things between the GPU and CPU, which can be slow.\n",
    "induction_score_store = torch.zeros((model.cfg.n_layers, model.cfg.n_heads), device=model.cfg.device)\n",
    "W_enc_split = torch.split(sae.W_enc, model.cfg.d_head, dim=0)\n",
    "W_enc_split = torch.stack(W_enc_split, dim=1)\n",
    "\n",
    "b_dec_split = torch.split(sae.b_dec, model.cfg.d_head, dim=0)\n",
    "b_dec_split = torch.stack(b_dec_split, dim=1).transpose(0,1)\n",
    "# Append \n",
    "contributions_all = []\n",
    "\n",
    "def SAE_hook(\n",
    "    activations, #: torch.float[torch.Tensor, \"batch seq_len n_head d_head \"],\n",
    "    hook: HookPoint,\n",
    "):\n",
    "    dot_prods = einops.einsum(W_enc_split, activations-b_dec_split,\n",
    "                  \"d_head n_head n_features, batch seq_len n_head d_head -> batch seq_len n_head n_features\")\n",
    "    (dot_prods.sum(dim=2, keepdim=True)+sae.b_enc)>0\n",
    "\n",
    "    dot_prods[torch.where((dot_prods.sum(dim=2, keepdim=True)+ sae.b_enc)<0)] = torch.nan\n",
    "\n",
    "    # Append contributions to contributons_all tensor\n",
    "    contributions_all.append(dot_prods.to('cpu'))#.sum(dim=0).sum(dim=1))\n",
    "\n",
    "\n",
    "for tokens, i in DataLoader(dataset, batch_size=64, shuffle=True):\n",
    "    model.run_with_hooks(\n",
    "        tokens, \n",
    "        return_type=None, # For efficiency, we don't need to calculate the logits\n",
    "        fwd_hooks=[(\n",
    "            sae.cfg[\"act_name\"],\n",
    "            SAE_hook\n",
    "        )]\n",
    "    )\n"
   ]
  },
  {
   "cell_type": "code",
   "execution_count": 172,
   "metadata": {},
   "outputs": [
    {
     "data": {
      "text/plain": [
       "torch.Size([32768, 8, 16384])"
      ]
     },
     "execution_count": 172,
     "metadata": {},
     "output_type": "execute_result"
    }
   ],
   "source": [
    "contributions_all = torch.cat(contributions_all, dim=0)\n",
    "contributions_all = einops.rearrange(contributions_all, \"batch seq_len n_head n_features -> (batch seq_len) n_head n_features\")\n",
    "contributions_all.shape"
   ]
  },
  {
   "cell_type": "code",
   "execution_count": 173,
   "metadata": {},
   "outputs": [
    {
     "data": {
      "text/plain": [
       "tensor(0.1249)"
      ]
     },
     "execution_count": 173,
     "metadata": {},
     "output_type": "execute_result"
    }
   ],
   "source": [
    "contributions_all.isnan().float().mean()"
   ]
  },
  {
   "cell_type": "code",
   "execution_count": 113,
   "metadata": {},
   "outputs": [
    {
     "data": {
      "text/plain": [
       "torch.Size([8, 16384])"
      ]
     },
     "execution_count": 113,
     "metadata": {},
     "output_type": "execute_result"
    }
   ],
   "source": [
    "normed = (contributions_all**2).sum(dim=0)\n",
    "normed = normed/normed.sum(dim=0, keepdim=True)\n",
    "normed.shape"
   ]
  },
  {
   "cell_type": "code",
   "execution_count": 118,
   "metadata": {},
   "outputs": [
    {
     "data": {
      "image/png": "[encoded data removed]",
      "text/plain": [
       "<Figure size 640x480 with 1 Axes>"
      ]
     },
     "metadata": {},
     "output_type": "display_data"
    }
   ],
   "source": [
    "plt.hist(normed.max(dim=0).values, bins=100)\n",
    "plt.show()"
   ]
  },
  {
   "cell_type": "code",
   "execution_count": 94,
   "metadata": {},
   "outputs": [],
   "source": [
    "a = einops.rearrange(contributions_all, \"batch seq_len n_head n_features -> (batch seq_len) n_head n_features\")\n"
   ]
  },
  {
   "cell_type": "code",
   "execution_count": 98,
   "metadata": {},
   "outputs": [
    {
     "data": {
      "text/plain": [
       "tensor([[ 0.1063,  0.4432, -0.0684,  ...,  0.1140, -0.0341,  0.1621],\n",
       "        [ 0.0825,  0.4626, -0.0491,  ...,  0.1035, -0.0362,  0.1679],\n",
       "        [-0.0049,  0.6636, -0.2342,  ...,  0.0864, -0.0504,  0.1618],\n",
       "        ...,\n",
       "        [ 0.3586,  1.2482, -0.2915,  ..., -0.8665, -0.2243,  0.5441],\n",
       "        [ 0.5252,  1.8118, -0.4020,  ..., -1.5610, -0.2407,  0.7289],\n",
       "        [ 0.4821,  0.7107, -0.2438,  ..., -0.0389, -0.1549,  0.5067]])"
      ]
     },
     "execution_count": 98,
     "metadata": {},
     "output_type": "execute_result"
    }
   ],
   "source": [
    "a[:,:,1]"
   ]
  },
  {
   "cell_type": "code",
   "execution_count": 93,
   "metadata": {},
   "outputs": [
    {
     "data": {
      "text/plain": [
       "tensor([[[[ 2.5598e-01,  1.0626e-01,  2.2022e-01,  ...,  5.2214e-01,\n",
       "           -8.1074e-02,  1.3789e-01],\n",
       "          [-1.8468e-01,  4.4324e-01,  3.9775e-01,  ..., -5.6378e-01,\n",
       "            2.4357e-02, -1.4211e-01],\n",
       "          [ 2.7656e-01, -6.8393e-02, -7.2752e-02,  ...,  1.7196e-01,\n",
       "            3.9732e-01,  1.8549e-01],\n",
       "          ...,\n",
       "          [ 2.2754e-01,  1.1399e-01,  6.6205e-02,  ..., -2.1901e-01,\n",
       "            1.9454e-01,  1.5027e-01],\n",
       "          [-1.9198e-01, -3.4131e-02, -1.2947e-01,  ..., -1.7822e-02,\n",
       "            2.0792e-01, -6.8057e-02],\n",
       "          [ 2.4169e-01,  1.6212e-01,  2.8259e-01,  ...,  5.5884e-01,\n",
       "            2.0451e-01,  3.3795e-01]],\n",
       "\n",
       "         [[ 3.4018e-01,  8.2544e-02,  2.2621e-01,  ...,  4.1745e-01,\n",
       "           -8.3391e-03,  1.5352e-01],\n",
       "          [-2.4335e-01,  4.6264e-01,  3.1731e-01,  ..., -6.7297e-01,\n",
       "            6.6912e-02, -8.3786e-02],\n",
       "          [-1.4347e-01, -4.9074e-02,  7.4916e-02,  ...,  1.6964e-01,\n",
       "            1.9603e-01,  3.7283e-01],\n",
       "          ...,\n",
       "          [ 3.3206e-01,  1.0347e-01,  3.6806e-02,  ..., -1.0319e-01,\n",
       "            2.3510e-01,  8.2624e-02],\n",
       "          [-2.5845e-01, -3.6184e-02, -1.0428e-01,  ..., -2.3059e-02,\n",
       "            2.5885e-01, -5.2631e-02],\n",
       "          [ 3.8457e-01,  1.6792e-01,  2.4377e-01,  ...,  6.0065e-01,\n",
       "            1.6820e-01,  1.5890e-01]],\n",
       "\n",
       "         [[-1.3035e-02, -4.9123e-03,  4.5232e-01,  ...,  2.3029e-01,\n",
       "            1.0977e-01,  6.8080e-01],\n",
       "          [-1.0193e-01,  6.6361e-01,  4.6997e-01,  ...,  1.5528e+00,\n",
       "            1.8495e-01, -1.5225e-01],\n",
       "          [ 6.0188e-01, -2.3416e-01, -3.7328e-01,  ...,  5.1321e-01,\n",
       "           -1.3321e+00, -2.5685e-01],\n",
       "          ...,\n",
       "          [ 1.1593e-01,  8.6381e-02, -1.9762e-02,  ..., -2.0429e-01,\n",
       "            5.3026e-01,  6.3447e-02],\n",
       "          [-1.0691e-01, -5.0363e-02, -1.4374e-01,  ...,  4.8221e-02,\n",
       "            6.9816e-01, -9.0631e-02],\n",
       "          [ 2.3081e-01,  1.6185e-01,  2.7908e-01,  ...,  1.9016e-01,\n",
       "            5.6008e-01,  2.1756e-01]],\n",
       "\n",
       "         ...,\n",
       "\n",
       "         [[ 1.4479e-01, -4.3798e-02,  1.0952e-02,  ..., -1.1162e+00,\n",
       "           -6.8466e-02,  1.3702e+00],\n",
       "          [-2.1894e-01,  1.0540e+00,  7.2326e-01,  ..., -3.6534e+00,\n",
       "            2.2235e-02, -1.0055e+00],\n",
       "          [ 2.6093e-01, -3.8318e-01, -3.0398e-01,  ...,  3.3765e-01,\n",
       "            3.8377e-01, -2.8483e+00],\n",
       "          ...,\n",
       "          [ 1.9921e-01,  2.2030e-01, -9.9907e-02,  ...,  2.4721e+00,\n",
       "            1.5877e-01, -4.3290e-02],\n",
       "          [-1.9224e-01, -1.1327e-01, -2.5517e-01,  ..., -2.9534e-01,\n",
       "            1.6141e-01, -5.6334e-01],\n",
       "          [ 3.0686e-01,  1.1859e-01,  5.3269e-01,  ..., -6.5071e-01,\n",
       "            1.7462e-01,  1.1520e+00]],\n",
       "\n",
       "         [[ 3.6707e-01, -8.4544e-02, -5.1458e-02,  ..., -2.7068e-01,\n",
       "            1.6060e-03,  3.9456e-01],\n",
       "          [-3.3292e-01,  1.6937e+00,  5.4344e-01,  ..., -1.2517e+00,\n",
       "            3.5888e-02, -3.5399e-02],\n",
       "          [ 9.5542e-02, -7.9328e-01,  2.3198e-02,  ...,  1.0779e+00,\n",
       "            5.2017e-01,  6.0147e-01],\n",
       "          ...,\n",
       "          [ 2.7732e-01,  1.2798e-01, -4.0648e-02,  ...,  4.0988e-01,\n",
       "            1.2678e-01, -8.8192e-02],\n",
       "          [-2.3927e-01, -1.2118e-01, -1.6389e-01,  ..., -6.7645e-02,\n",
       "            1.8849e-01, -7.8665e-02],\n",
       "          [ 2.9450e-01, -1.3242e-03,  3.7890e-01,  ..., -6.2185e-01,\n",
       "            7.0898e-02, -5.6753e-02]],\n",
       "\n",
       "         [[ 2.5673e-01, -2.2431e-02,  7.7767e-02,  ..., -1.1547e-01,\n",
       "           -1.8432e-01, -2.7909e+00],\n",
       "          [-2.0977e-01,  7.6145e-01,  4.3082e-01,  ..., -9.2651e-01,\n",
       "            2.5762e-02,  6.5763e-01],\n",
       "          [ 2.9404e-01, -4.4810e-02,  7.9783e-02,  ...,  2.6781e-01,\n",
       "            3.5431e-01,  3.8039e+00],\n",
       "          ...,\n",
       "          [ 2.2960e-01,  1.3017e-01, -7.6376e-03,  ...,  3.6986e-01,\n",
       "            2.1574e-01,  5.6255e-01],\n",
       "          [-1.5771e-01, -7.5337e-02, -1.4065e-01,  ..., -3.8986e-02,\n",
       "            2.8103e-01,  1.0321e+00],\n",
       "          [ 2.3431e-01,  8.9713e-02,  2.4857e-01,  ..., -3.6024e-01,\n",
       "            1.2159e-01, -6.6376e-01]]],\n",
       "\n",
       "\n",
       "        [[[ 2.5598e-01,  1.0626e-01,  2.2022e-01,  ...,  5.2214e-01,\n",
       "           -8.1074e-02,  1.3789e-01],\n",
       "          [-1.8468e-01,  4.4324e-01,  3.9775e-01,  ..., -5.6378e-01,\n",
       "            2.4357e-02, -1.4211e-01],\n",
       "          [ 2.7656e-01, -6.8393e-02, -7.2752e-02,  ...,  1.7196e-01,\n",
       "            3.9732e-01,  1.8549e-01],\n",
       "          ...,\n",
       "          [ 2.2754e-01,  1.1399e-01,  6.6205e-02,  ..., -2.1901e-01,\n",
       "            1.9454e-01,  1.5027e-01],\n",
       "          [-1.9198e-01, -3.4131e-02, -1.2947e-01,  ..., -1.7822e-02,\n",
       "            2.0792e-01, -6.8057e-02],\n",
       "          [ 2.4169e-01,  1.6212e-01,  2.8259e-01,  ...,  5.5884e-01,\n",
       "            2.0451e-01,  3.3795e-01]],\n",
       "\n",
       "         [[ 1.9075e-01,  1.1022e-01,  2.4640e-01,  ...,  6.5970e-01,\n",
       "           -1.0029e-01,  4.6595e-02],\n",
       "          [-1.5671e-01,  4.4645e-01,  3.8520e-01,  ..., -7.4180e-01,\n",
       "            3.3805e-02, -1.4154e-01],\n",
       "          [ 2.6482e-01, -7.4631e-02, -5.3147e-02,  ...,  2.2422e-01,\n",
       "            3.9189e-01,  2.2363e-01],\n",
       "          ...,\n",
       "          [ 2.2254e-01,  9.9502e-02,  7.6407e-02,  ..., -2.5238e-01,\n",
       "            1.4895e-01,  6.7416e-02],\n",
       "          [-1.7975e-01, -4.0544e-02, -1.3445e-01,  ..., -2.6543e-02,\n",
       "            2.2458e-01, -9.2291e-02],\n",
       "          [ 3.3089e-01,  1.7207e-01,  2.2888e-01,  ...,  5.2610e-01,\n",
       "            2.0358e-01,  4.3935e-01]],\n",
       "\n",
       "         [[ 1.9913e-01,  1.0039e-01,  2.1117e-01,  ...,  4.9934e-01,\n",
       "           -8.9892e-02,  1.4243e-01],\n",
       "          [-1.2025e-01,  4.1492e-01,  3.9391e-01,  ..., -5.0305e-01,\n",
       "            4.3028e-02, -1.4802e-01],\n",
       "          [ 2.2172e-01, -6.6600e-02, -7.6105e-02,  ...,  1.7498e-01,\n",
       "            4.2727e-01,  2.2615e-01],\n",
       "          ...,\n",
       "          [ 3.7496e-01,  1.6010e-01,  1.3728e-01,  ..., -3.4772e-01,\n",
       "            1.3630e-01,  4.6792e-02],\n",
       "          [-1.5345e-01, -3.9906e-02, -1.3529e-01,  ..., -3.9288e-02,\n",
       "            2.1502e-01, -7.9424e-02],\n",
       "          [ 2.1108e-01,  1.4279e-01,  2.4631e-01,  ...,  5.7042e-01,\n",
       "            1.8782e-01,  3.8972e-01]],\n",
       "\n",
       "         ...,\n",
       "\n",
       "         [[ 2.9230e-01,  2.7991e-01,  1.5188e-01,  ...,  3.8475e-01,\n",
       "           -4.2857e-01,  3.7578e-01],\n",
       "          [-2.2879e-01,  7.7949e-01,  5.3871e-01,  ..., -4.0459e-01,\n",
       "           -9.4172e-02,  1.5429e-02],\n",
       "          [ 8.2717e-03, -1.3095e-01, -3.0307e-02,  ...,  3.3265e-01,\n",
       "            6.0288e-01,  1.1894e-02],\n",
       "          ...,\n",
       "          [ 2.1428e-01,  1.5022e-01,  6.1935e-02,  ..., -5.0569e-01,\n",
       "            1.6848e-01, -5.0991e-02],\n",
       "          [-1.7245e-01, -9.0090e-02, -2.0673e-01,  ..., -2.6206e-01,\n",
       "            4.5779e-01, -3.7651e-01],\n",
       "          [ 3.8243e-01,  1.9828e-01,  3.4725e-01,  ...,  9.6438e-01,\n",
       "            3.1750e-01,  1.0260e+00]],\n",
       "\n",
       "         [[ 1.7226e-01,  2.5527e-01,  1.2524e-01,  ...,  5.5819e-01,\n",
       "           -5.7360e-01,  3.8448e-01],\n",
       "          [-2.0269e-01,  7.7715e-01,  4.1304e-01,  ..., -4.2743e-01,\n",
       "           -1.2136e-01,  8.8289e-02],\n",
       "          [-1.6313e-02, -1.8102e-01, -5.4934e-02,  ...,  4.7432e-02,\n",
       "            7.8932e-01,  5.5193e-01],\n",
       "          ...,\n",
       "          [ 6.0101e-01,  2.0148e-01,  1.2393e-01,  ..., -5.4678e-01,\n",
       "            2.9165e-01, -6.7880e-02],\n",
       "          [-1.3434e-01, -4.8441e-02, -1.4511e-01,  ..., -1.7467e-01,\n",
       "            5.4928e-01, -2.7756e-01],\n",
       "          [ 2.7402e-01,  1.7796e-01,  3.0480e-01,  ...,  1.1791e+00,\n",
       "            2.7996e-01,  6.9197e-01]],\n",
       "\n",
       "         [[ 3.0301e-01,  2.7524e-01,  2.0970e-01,  ...,  2.0382e-01,\n",
       "           -4.0377e-01,  2.3367e-02],\n",
       "          [-3.0389e-02,  6.3539e-01,  3.5283e-01,  ..., -3.7370e-01,\n",
       "           -7.3418e-02, -3.1207e-02],\n",
       "          [ 1.6284e-02, -1.8782e-01, -5.6122e-02,  ..., -1.0256e-01,\n",
       "            4.6424e-01,  4.1709e-01],\n",
       "          ...,\n",
       "          [ 3.0844e-01,  1.5362e-01,  4.7767e-02,  ..., -2.5069e-01,\n",
       "            2.6544e-01,  6.4298e-02],\n",
       "          [-2.5577e-01, -6.4910e-02, -1.3127e-01,  ..., -1.9176e-02,\n",
       "            3.1721e-01, -7.0080e-02],\n",
       "          [ 2.4105e-01,  2.3994e-01,  3.2824e-01,  ...,  1.2470e+00,\n",
       "            3.6869e-01,  4.9576e-01]]],\n",
       "\n",
       "\n",
       "        [[[ 2.5598e-01,  1.0626e-01,  2.2022e-01,  ...,  5.2214e-01,\n",
       "           -8.1074e-02,  1.3789e-01],\n",
       "          [-1.8468e-01,  4.4324e-01,  3.9775e-01,  ..., -5.6378e-01,\n",
       "            2.4357e-02, -1.4211e-01],\n",
       "          [ 2.7656e-01, -6.8393e-02, -7.2752e-02,  ...,  1.7196e-01,\n",
       "            3.9732e-01,  1.8549e-01],\n",
       "          ...,\n",
       "          [ 2.2754e-01,  1.1399e-01,  6.6205e-02,  ..., -2.1901e-01,\n",
       "            1.9454e-01,  1.5027e-01],\n",
       "          [-1.9198e-01, -3.4131e-02, -1.2947e-01,  ..., -1.7822e-02,\n",
       "            2.0792e-01, -6.8057e-02],\n",
       "          [ 2.4169e-01,  1.6212e-01,  2.8259e-01,  ...,  5.5884e-01,\n",
       "            2.0451e-01,  3.3795e-01]],\n",
       "\n",
       "         [[ 2.8419e-01,  8.8769e-02,  2.3983e-01,  ...,  3.5792e-01,\n",
       "           -9.3946e-02,  5.6649e-02],\n",
       "          [-2.7403e-01,  4.8786e-01,  3.9293e-01,  ..., -4.4389e-01,\n",
       "            2.4956e-02, -6.9031e-03],\n",
       "          [ 3.0631e-01, -5.1254e-02, -7.0266e-02,  ...,  1.8790e-01,\n",
       "            4.1677e-01,  1.1470e-01],\n",
       "          ...,\n",
       "          [ 2.8023e-01,  1.1211e-01,  6.4210e-02,  ..., -7.4460e-02,\n",
       "            2.0794e-01,  1.0354e-01],\n",
       "          [-2.2874e-01, -3.2468e-02, -1.2251e-01,  ..., -2.9004e-02,\n",
       "            2.2269e-01, -5.6640e-02],\n",
       "          [ 2.1866e-01,  1.3288e-01,  2.7434e-01,  ...,  5.2982e-01,\n",
       "            1.8879e-01,  3.3994e-01]],\n",
       "\n",
       "         [[ 4.9769e-01,  7.6931e-02,  3.0374e-01,  ...,  6.6876e-01,\n",
       "           -4.7012e-02, -1.0401e-01],\n",
       "          [-9.5643e-01,  6.0875e-01,  3.7980e-01,  ..., -9.2026e-01,\n",
       "            3.4915e-02,  1.1193e-01],\n",
       "          [ 1.0752e+00, -9.0087e-02, -7.8475e-02,  ...,  3.0041e-01,\n",
       "            3.8584e-01,  2.5860e-01],\n",
       "          ...,\n",
       "          [ 2.2003e-01,  1.0332e-01,  5.3053e-02,  ..., -3.8804e-01,\n",
       "            1.3277e-01, -2.3730e-01],\n",
       "          [-7.6109e-01, -5.2657e-02, -1.1181e-01,  ..., -9.5720e-02,\n",
       "            1.9090e-01, -4.3867e-02],\n",
       "          [ 4.0723e-01,  1.6352e-01,  2.7677e-01,  ...,  3.3535e-01,\n",
       "            1.5709e-01,  3.8036e-01]],\n",
       "\n",
       "         ...,\n",
       "\n",
       "         [[-2.6087e-01, -3.8554e-01,  1.0288e-01,  ...,  1.4500e+01,\n",
       "            1.1902e+00, -2.1675e+00],\n",
       "          [ 2.1404e-01, -2.2632e+00,  3.9157e-01,  ...,  4.6476e+00,\n",
       "            3.5725e-01,  1.3409e+00],\n",
       "          [-9.3217e-02,  1.8311e+00, -5.7230e-02,  ..., -3.0738e+00,\n",
       "            1.4224e-01, -1.7130e+00],\n",
       "          ...,\n",
       "          [ 4.3584e-01, -5.2846e-02,  4.0618e-02,  ...,  1.2094e+01,\n",
       "           -4.8829e-01,  1.5261e+00],\n",
       "          [ 3.1082e-01,  8.1329e-01, -1.7958e-01,  ...,  2.9238e+00,\n",
       "           -5.1146e-01, -1.3329e-01],\n",
       "          [-2.6113e-01, -2.1604e+00,  4.9310e-01,  ..., -1.4989e+01,\n",
       "            2.1369e-01,  2.6025e+00]],\n",
       "\n",
       "         [[-4.5851e-01, -6.4980e-02,  1.4587e-01,  ...,  6.3326e+00,\n",
       "            6.8953e-01, -4.4747e-01],\n",
       "          [ 3.5059e-01, -9.3759e-01,  3.8750e-01,  ...,  3.9830e+00,\n",
       "            1.1348e-01,  3.2311e-01],\n",
       "          [-3.8631e-01,  6.9016e-01, -8.8143e-02,  ..., -1.9281e+00,\n",
       "            1.5393e-01, -4.4326e-01],\n",
       "          ...,\n",
       "          [ 7.2284e-01,  4.5486e-01, -2.9924e-02,  ...,  6.8166e+00,\n",
       "           -3.9101e-01,  5.4389e-01],\n",
       "          [ 4.9634e-01,  4.0474e-01, -1.4913e-01,  ...,  1.3478e+00,\n",
       "            1.7600e-01, -2.4701e-02],\n",
       "          [-5.6478e-01, -8.6621e-01,  4.7233e-01,  ..., -8.2589e+00,\n",
       "            2.0924e-01,  6.3707e-01]],\n",
       "\n",
       "         [[-4.2467e-01, -8.2678e-02,  1.5289e-01,  ...,  1.4922e+00,\n",
       "            7.9553e-01, -5.6591e-01],\n",
       "          [ 3.5105e-01, -2.1099e+00,  4.3711e-01,  ...,  1.0207e+00,\n",
       "            1.8418e-01,  2.9392e-01],\n",
       "          [-9.1848e-01,  7.4224e-01, -1.6609e-01,  ..., -8.9158e-01,\n",
       "            1.4160e-02, -6.5658e-01],\n",
       "          ...,\n",
       "          [ 7.8411e-01,  1.2735e+00, -4.2758e-02,  ...,  1.6306e+00,\n",
       "           -5.8954e-01,  8.0152e-01],\n",
       "          [ 5.1758e-01,  4.4638e-01, -1.3062e-01,  ...,  1.1522e-01,\n",
       "            4.6447e-01,  1.8432e-01],\n",
       "          [-6.5861e-01, -1.5569e+00,  6.0800e-01,  ..., -1.3299e+00,\n",
       "           -2.5021e-01,  6.9217e-01]]],\n",
       "\n",
       "\n",
       "        ...,\n",
       "\n",
       "\n",
       "        [[[ 2.5598e-01,  1.0626e-01,  2.2022e-01,  ...,  5.2214e-01,\n",
       "           -8.1074e-02,  1.3789e-01],\n",
       "          [-1.8468e-01,  4.4324e-01,  3.9775e-01,  ..., -5.6378e-01,\n",
       "            2.4357e-02, -1.4211e-01],\n",
       "          [ 2.7656e-01, -6.8393e-02, -7.2752e-02,  ...,  1.7196e-01,\n",
       "            3.9732e-01,  1.8549e-01],\n",
       "          ...,\n",
       "          [ 2.2754e-01,  1.1399e-01,  6.6205e-02,  ..., -2.1901e-01,\n",
       "            1.9454e-01,  1.5027e-01],\n",
       "          [-1.9198e-01, -3.4131e-02, -1.2947e-01,  ..., -1.7822e-02,\n",
       "            2.0792e-01, -6.8057e-02],\n",
       "          [ 2.4169e-01,  1.6212e-01,  2.8259e-01,  ...,  5.5884e-01,\n",
       "            2.0451e-01,  3.3795e-01]],\n",
       "\n",
       "         [[ 2.4608e-01,  1.2267e-01,  2.2044e-01,  ...,  3.4885e-01,\n",
       "           -1.9312e-01, -6.0063e-02],\n",
       "          [-1.2976e-01,  4.0916e-01,  4.0441e-01,  ..., -4.2080e-01,\n",
       "            7.4873e-02, -4.4165e-01],\n",
       "          [ 2.0928e-01, -1.0797e-01, -1.4179e-01,  ...,  1.4139e-01,\n",
       "            3.8909e-01,  2.1040e-01],\n",
       "          ...,\n",
       "          [ 2.4415e-01,  1.1263e-01,  6.5930e-02,  ..., -1.7942e-01,\n",
       "            1.6415e-01,  2.2080e-01],\n",
       "          [-2.0659e-01, -3.1336e-02, -1.4241e-01,  ..., -9.6425e-03,\n",
       "            2.0506e-01, -8.9080e-02],\n",
       "          [ 1.9671e-01,  1.6897e-01,  2.9810e-01,  ...,  6.0611e-01,\n",
       "            2.5072e-01,  4.8301e-01]],\n",
       "\n",
       "         [[ 2.2676e-01,  1.2302e-01,  2.2120e-01,  ...,  2.1010e-01,\n",
       "           -2.7516e-01, -4.4931e-01],\n",
       "          [-9.7076e-02,  4.4157e-01,  4.6530e-01,  ..., -3.0840e-01,\n",
       "            1.0290e-01, -1.1243e+00],\n",
       "          [ 1.5844e-01, -1.7898e-01, -2.3383e-01,  ...,  1.6773e-01,\n",
       "            4.5638e-01,  2.9765e-01],\n",
       "          ...,\n",
       "          [ 1.5760e-01,  1.3414e-01,  8.5924e-02,  ..., -1.4993e-01,\n",
       "            1.8537e-01,  4.3605e-01],\n",
       "          [-1.6134e-01, -4.0694e-02, -1.5715e-01,  ..., -9.5069e-03,\n",
       "            2.2038e-01, -2.0942e-01],\n",
       "          [ 1.4148e-01,  1.8846e-01,  3.5016e-01,  ...,  4.9177e-01,\n",
       "            2.7865e-01,  1.1747e+00]],\n",
       "\n",
       "         ...,\n",
       "\n",
       "         [[ 3.7289e-01, -2.5045e+00,  2.5646e-01,  ...,  3.8853e-05,\n",
       "           -3.9890e-02,  6.6401e-02],\n",
       "          [-2.4630e-01, -2.0032e+00,  4.4004e-01,  ..., -5.4934e-01,\n",
       "           -2.1993e-03,  2.5559e-01],\n",
       "          [-6.3581e-03,  1.5622e+00,  2.1419e-02,  ...,  1.7772e-01,\n",
       "           -4.1098e-01, -2.0480e-03],\n",
       "          ...,\n",
       "          [ 4.6510e-02, -1.1753e-01,  1.0543e-01,  ..., -1.5668e-01,\n",
       "            5.2989e-02, -4.7570e-01],\n",
       "          [-1.3057e-01, -9.0520e-02, -1.1729e-01,  ...,  3.7728e-02,\n",
       "           -1.6371e-01,  1.0098e-01],\n",
       "          [ 6.5090e-01, -1.7653e+00,  1.2869e-01,  ...,  1.3037e+00,\n",
       "            8.0734e-01, -9.4651e-01]],\n",
       "\n",
       "         [[ 1.9871e-01, -7.9253e-01,  2.2207e-01,  ...,  1.2151e-01,\n",
       "           -3.9324e-02, -1.7376e-01],\n",
       "          [-1.8226e-01, -7.2648e-01,  4.5265e-01,  ..., -1.3419e+00,\n",
       "            6.2236e-03,  4.9894e-01],\n",
       "          [ 1.8363e-02,  8.6136e-01, -1.3883e-02,  ...,  3.9381e-02,\n",
       "           -2.3480e-01, -5.9783e-01],\n",
       "          ...,\n",
       "          [ 2.5183e-01, -3.3561e-01,  1.6840e-01,  ..., -5.3818e-01,\n",
       "            1.1975e-01, -5.3604e-01],\n",
       "          [-5.3721e-02,  1.5177e-01, -9.8039e-02,  ...,  6.0604e-02,\n",
       "            2.3095e-02,  3.5061e-01],\n",
       "          [ 5.7079e-01, -5.1509e-01,  6.6948e-02,  ...,  3.5143e+00,\n",
       "            6.3560e-01, -1.2000e+00]],\n",
       "\n",
       "         [[-1.4778e+01, -5.8907e-01,  3.2313e-01,  ..., -4.7816e-02,\n",
       "           -8.4948e-02, -9.7231e-01],\n",
       "          [ 6.9887e+00, -1.0042e+00,  1.1491e+00,  ..., -5.7873e-01,\n",
       "            2.2450e-01, -5.9477e+00],\n",
       "          [ 1.3895e+00,  4.2819e-01,  9.9220e-02,  ...,  4.1566e-01,\n",
       "           -5.0493e-02,  4.3602e+00],\n",
       "          ...,\n",
       "          [-7.6897e+00, -1.5310e-01,  2.4665e-01,  ..., -2.9364e-01,\n",
       "            3.9327e-02,  1.5098e+00],\n",
       "          [ 7.6323e+00,  3.8701e-01, -4.0079e-02,  ..., -1.2772e-01,\n",
       "            5.2682e-02,  2.6447e-01],\n",
       "          [-1.5383e+01, -2.8673e-01, -3.8292e-01,  ...,  1.8764e+00,\n",
       "            2.5150e-01,  3.7426e+00]]],\n",
       "\n",
       "\n",
       "        [[[ 2.5598e-01,  1.0626e-01,  2.2022e-01,  ...,  5.2214e-01,\n",
       "           -8.1074e-02,  1.3789e-01],\n",
       "          [-1.8468e-01,  4.4324e-01,  3.9775e-01,  ..., -5.6378e-01,\n",
       "            2.4357e-02, -1.4211e-01],\n",
       "          [ 2.7656e-01, -6.8393e-02, -7.2752e-02,  ...,  1.7196e-01,\n",
       "            3.9732e-01,  1.8549e-01],\n",
       "          ...,\n",
       "          [ 2.2754e-01,  1.1399e-01,  6.6205e-02,  ..., -2.1901e-01,\n",
       "            1.9454e-01,  1.5027e-01],\n",
       "          [-1.9198e-01, -3.4131e-02, -1.2947e-01,  ..., -1.7822e-02,\n",
       "            2.0792e-01, -6.8057e-02],\n",
       "          [ 2.4169e-01,  1.6212e-01,  2.8259e-01,  ...,  5.5884e-01,\n",
       "            2.0451e-01,  3.3795e-01]],\n",
       "\n",
       "         [[ 4.6192e-01,  1.3436e-01,  2.3473e-01,  ...,  3.5237e-01,\n",
       "           -5.4912e-02,  1.8813e-01],\n",
       "          [-2.9207e-01,  4.7955e-01,  4.5196e-01,  ..., -3.3959e-01,\n",
       "            4.3000e-02, -1.2070e-01],\n",
       "          [-6.2425e-02, -5.2099e-02, -2.0800e-01,  ...,  1.7180e-01,\n",
       "            3.1009e-01,  4.5178e-01],\n",
       "          ...,\n",
       "          [ 3.3129e-01,  8.2617e-02,  8.1260e-02,  ..., -1.1697e-01,\n",
       "            1.8685e-01,  1.0205e-01],\n",
       "          [-2.9600e-01, -3.6812e-02, -1.4183e-01,  ..., -1.1643e-02,\n",
       "            2.5482e-01, -5.6730e-02],\n",
       "          [ 3.1062e-01,  1.1828e-01,  3.5235e-01,  ...,  6.1731e-01,\n",
       "            1.7775e-01,  1.4106e-01]],\n",
       "\n",
       "         [[ 1.5399e-01,  1.3835e-01,  2.2272e-01,  ...,  5.0943e-01,\n",
       "           -3.2451e-02,  1.8830e-01],\n",
       "          [-2.4483e-01,  5.1873e-01,  4.9585e-01,  ..., -7.9924e-01,\n",
       "            5.2727e-02, -1.0419e-01],\n",
       "          [ 3.3847e-01, -1.7159e-01, -2.4044e-01,  ...,  3.1818e-01,\n",
       "            3.1895e-01,  3.7423e-01],\n",
       "          ...,\n",
       "          [ 2.2262e-01,  7.4497e-02,  6.0437e-02,  ..., -3.7382e-01,\n",
       "            9.6826e-02,  9.9605e-02],\n",
       "          [-2.2768e-01, -4.3738e-02, -1.4831e-01,  ..., -2.1798e-02,\n",
       "            2.5602e-01, -6.6834e-02],\n",
       "          [ 3.1060e-01,  1.4192e-01,  3.5271e-01,  ...,  6.1882e-01,\n",
       "            2.3322e-01,  1.3703e-01]],\n",
       "\n",
       "         ...,\n",
       "\n",
       "         [[ 2.5983e-01,  1.6992e-01,  5.5849e-02,  ...,  3.5274e-01,\n",
       "           -6.6372e-02,  7.6869e-01],\n",
       "          [-7.6077e-01,  4.6575e-01,  5.2008e-01,  ..., -8.9007e-01,\n",
       "           -4.6884e-01, -1.9912e-01],\n",
       "          [ 3.1030e-01, -2.0313e-01, -1.0124e-02,  ...,  2.0579e-01,\n",
       "            6.2563e-01,  2.0153e-01],\n",
       "          ...,\n",
       "          [ 3.0337e-01,  2.3444e-01,  6.3487e-02,  ..., -1.4794e-01,\n",
       "            3.7692e-01, -4.2787e-01],\n",
       "          [-4.0781e-01, -8.5806e-02, -1.2746e-01,  ..., -3.7789e-02,\n",
       "            4.7128e-01, -1.4280e-01],\n",
       "          [ 4.0074e-01,  1.3939e-01,  2.1646e-01,  ...,  6.6959e-01,\n",
       "            4.4117e-01,  1.8311e-01]],\n",
       "\n",
       "         [[ 1.2157e+01,  2.2300e-01,  1.0616e-01,  ...,  1.5847e+00,\n",
       "           -1.6454e-01,  7.1669e-01],\n",
       "          [-3.9490e+01,  4.6879e-01,  4.6788e-01,  ..., -4.4848e+00,\n",
       "           -6.1115e-01, -1.5262e-01],\n",
       "          [-3.3456e+01, -2.1899e-01,  2.3416e-01,  ...,  3.3391e+00,\n",
       "            9.8973e-01, -2.7320e-01],\n",
       "          ...,\n",
       "          [ 2.0401e+01,  2.2292e-01,  4.2139e-02,  ..., -2.8194e-01,\n",
       "            6.5481e-01, -2.1475e-03],\n",
       "          [-2.2294e+01, -8.7474e-02, -8.8172e-02,  ..., -2.0394e-01,\n",
       "            8.6190e-01, -1.0036e-01],\n",
       "          [ 2.5875e+01,  1.5937e-01,  4.6358e-02,  ..., -2.2760e+00,\n",
       "           -6.9571e-02,  2.9887e-01]],\n",
       "\n",
       "         [[ 6.4478e-01,  9.8632e-02, -1.2419e-02,  ...,  9.0894e-01,\n",
       "           -2.9969e-01,  4.4702e-01],\n",
       "          [-1.0138e+00,  4.9644e-01,  4.4807e-01,  ...,  7.5801e+00,\n",
       "           -1.9918e-01, -9.2802e-02],\n",
       "          [-1.0969e+00, -1.6431e-01,  2.4776e-01,  ..., -6.7097e+00,\n",
       "            7.4894e-01, -2.2018e-01],\n",
       "          ...,\n",
       "          [ 7.4669e-01,  1.9251e-01,  6.0079e-02,  ...,  8.3615e-01,\n",
       "            5.0370e-01, -3.6387e-02],\n",
       "          [-6.3685e-01, -4.6219e-02, -1.1873e-01,  ...,  2.2048e-01,\n",
       "            5.0206e-01, -1.1298e-01],\n",
       "          [ 7.2817e-01,  1.8391e-01,  1.1960e-01,  ...,  3.5992e+00,\n",
       "            2.3230e-02,  4.1788e-01]]],\n",
       "\n",
       "\n",
       "        [[[ 2.5598e-01,  1.0626e-01,  2.2022e-01,  ...,  5.2214e-01,\n",
       "           -8.1074e-02,  1.3789e-01],\n",
       "          [-1.8468e-01,  4.4324e-01,  3.9775e-01,  ..., -5.6378e-01,\n",
       "            2.4357e-02, -1.4211e-01],\n",
       "          [ 2.7656e-01, -6.8393e-02, -7.2752e-02,  ...,  1.7196e-01,\n",
       "            3.9732e-01,  1.8549e-01],\n",
       "          ...,\n",
       "          [ 2.2754e-01,  1.1399e-01,  6.6205e-02,  ..., -2.1901e-01,\n",
       "            1.9454e-01,  1.5027e-01],\n",
       "          [-1.9198e-01, -3.4131e-02, -1.2947e-01,  ..., -1.7822e-02,\n",
       "            2.0792e-01, -6.8057e-02],\n",
       "          [ 2.4169e-01,  1.6212e-01,  2.8259e-01,  ...,  5.5884e-01,\n",
       "            2.0451e-01,  3.3795e-01]],\n",
       "\n",
       "         [[ 7.7627e-02,  4.2971e-02,  2.0732e-01,  ...,  5.2506e-01,\n",
       "           -5.1299e-02,  1.3195e-01],\n",
       "          [-1.7852e-01,  4.9188e-01,  4.1270e-01,  ..., -4.3673e-01,\n",
       "            1.4578e-01, -6.7428e-02],\n",
       "          [ 3.4908e-01, -1.0295e-01, -8.2280e-02,  ...,  6.6643e-02,\n",
       "            3.3785e-01,  2.0290e-01],\n",
       "          ...,\n",
       "          [ 2.7322e-01,  1.4509e-01,  6.6404e-02,  ..., -2.3000e-01,\n",
       "            1.4901e-01,  1.1174e-01],\n",
       "          [-2.4015e-01, -4.9637e-02, -1.2817e-01,  ..., -2.4753e-02,\n",
       "            1.9258e-01, -4.5749e-02],\n",
       "          [ 2.9341e-01,  1.7983e-01,  3.0865e-01,  ...,  4.8004e-01,\n",
       "            1.8402e-01,  3.2586e-01]],\n",
       "\n",
       "         [[ 1.9848e-01,  8.4092e-02,  1.7905e-01,  ...,  6.5203e-01,\n",
       "           -8.2984e-02, -5.4567e-02],\n",
       "          [-1.5699e-01,  5.0009e-01,  3.6865e-01,  ..., -8.3396e-01,\n",
       "            1.2569e-01, -1.5024e-01],\n",
       "          [ 3.3270e-01, -9.3137e-02, -7.5294e-02,  ...,  2.1948e-01,\n",
       "            3.3962e-01,  2.4063e-01],\n",
       "          ...,\n",
       "          [ 2.0288e-01,  1.3479e-01,  6.5677e-02,  ..., -2.5722e-01,\n",
       "            1.5439e-01,  1.4990e-01],\n",
       "          [-1.9647e-01, -4.5318e-02, -1.2627e-01,  ..., -3.8609e-02,\n",
       "            2.1328e-01, -7.4438e-02],\n",
       "          [ 2.4318e-01,  1.7480e-01,  3.2075e-01,  ...,  4.9074e-01,\n",
       "            2.0337e-01,  4.2419e-01]],\n",
       "\n",
       "         ...,\n",
       "\n",
       "         [[-1.3655e+00,  3.5863e-01,  1.5047e-01,  ...,  8.9599e-01,\n",
       "           -1.7747e-01,  2.9052e-01],\n",
       "          [ 6.1102e-01,  1.2482e+00,  9.5412e-01,  ..., -1.2299e+00,\n",
       "            1.3298e+00,  2.4668e-01],\n",
       "          [-2.2692e-01, -2.9151e-01, -4.4947e-01,  ...,  1.2226e+00,\n",
       "            3.9262e+00, -1.9105e-01],\n",
       "          ...,\n",
       "          [ 5.9296e-01, -8.6652e-01, -7.2402e-02,  ..., -8.8738e-01,\n",
       "           -6.2361e+00,  7.2578e-01],\n",
       "          [ 1.0477e+00, -2.2431e-01, -3.2741e-01,  ..., -1.1767e-01,\n",
       "            2.1795e+00,  1.3047e-01],\n",
       "          [-1.5380e-01,  5.4415e-01,  2.6065e-01,  ...,  8.0537e-01,\n",
       "            1.7321e+00, -1.9596e-01]],\n",
       "\n",
       "         [[ 4.2536e+00,  5.2518e-01,  1.8579e-01,  ...,  9.2483e-01,\n",
       "           -5.9548e-01,  2.5591e-01],\n",
       "          [-2.2280e+00,  1.8118e+00,  1.1971e+00,  ..., -1.1867e+00,\n",
       "            2.0299e+00,  2.1428e-01],\n",
       "          [ 1.3739e+00, -4.0202e-01, -6.7267e-01,  ...,  9.1375e-01,\n",
       "            5.9716e+00, -2.0014e-01],\n",
       "          ...,\n",
       "          [-1.3250e-01, -1.5610e+00, -2.3585e-01,  ..., -1.7421e-01,\n",
       "           -1.0544e+01,  7.9904e-01],\n",
       "          [-3.0987e+00, -2.4069e-01, -3.9264e-01,  ..., -6.0567e-02,\n",
       "            3.0031e+00,  4.5525e-02],\n",
       "          [ 7.1306e-01,  7.2889e-01,  2.5693e-01,  ...,  5.6763e-01,\n",
       "            2.2819e+00, -1.6453e-01]],\n",
       "\n",
       "         [[ 1.3301e+00,  4.8205e-01,  7.4732e-02,  ...,  3.7498e-01,\n",
       "           -1.0733e-01,  5.6430e-01],\n",
       "          [ 1.7336e-02,  7.1071e-01,  5.4148e-01,  ..., -4.3949e-01,\n",
       "            1.2461e-01,  4.4285e-01],\n",
       "          [-3.2477e-01, -2.4382e-01,  2.8427e-02,  ...,  7.8737e-01,\n",
       "            6.6358e-01, -1.1499e-01],\n",
       "          ...,\n",
       "          [-1.9783e-01, -3.8914e-02,  2.5977e-02,  ...,  2.6824e-02,\n",
       "           -2.5576e-01,  3.8423e-01],\n",
       "          [-9.6346e-01, -1.5488e-01, -2.5565e-01,  ..., -4.0632e-02,\n",
       "            3.9626e-01,  2.7458e-02],\n",
       "          [ 2.9162e-01,  5.0673e-01,  3.4265e-01,  ...,  3.3194e-01,\n",
       "            3.5608e-01, -3.6525e-01]]]])"
      ]
     },
     "execution_count": 93,
     "metadata": {},
     "output_type": "execute_result"
    }
   ],
   "source": [
    "contributions_all.max()"
   ]
  },
  {
   "cell_type": "code",
   "execution_count": 78,
   "metadata": {},
   "outputs": [
    {
     "data": {
      "text/plain": [
       "torch.Size([10, 64, 64, 16384])"
      ]
     },
     "execution_count": 78,
     "metadata": {},
     "output_type": "execute_result"
    }
   ],
   "source": [
    "contributions_all[0].shape"
   ]
  },
  {
   "cell_type": "code",
   "execution_count": 18,
   "metadata": {},
   "outputs": [
    {
     "data": {
      "text/plain": [
       "'blocks.1.attn.hook_z'"
      ]
     },
     "execution_count": 18,
     "metadata": {},
     "output_type": "execute_result"
    }
   ],
   "source": [
    "sae.cfg[\"act_name\"]"
   ]
  },
  {
   "cell_type": "code",
   "execution_count": 17,
   "metadata": {},
   "outputs": [
    {
     "data": {
      "text/plain": [
       "<bound method HookedRootModule.hook_points of HookedTransformer(\n",
       "  (embed): Embed()\n",
       "  (hook_embed): HookPoint()\n",
       "  (pos_embed): PosEmbed()\n",
       "  (hook_pos_embed): HookPoint()\n",
       "  (blocks): ModuleList(\n",
       "    (0-1): 2 x TransformerBlock(\n",
       "      (ln1): LayerNormPre(\n",
       "        (hook_scale): HookPoint()\n",
       "        (hook_normalized): HookPoint()\n",
       "      )\n",
       "      (ln2): LayerNormPre(\n",
       "        (hook_scale): HookPoint()\n",
       "        (hook_normalized): HookPoint()\n",
       "      )\n",
       "      (attn): Attention(\n",
       "        (hook_k): HookPoint()\n",
       "        (hook_q): HookPoint()\n",
       "        (hook_v): HookPoint()\n",
       "        (hook_z): HookPoint()\n",
       "        (hook_attn_scores): HookPoint()\n",
       "        (hook_pattern): HookPoint()\n",
       "        (hook_result): HookPoint()\n",
       "      )\n",
       "      (mlp): MLP(\n",
       "        (hook_pre): HookPoint()\n",
       "        (hook_post): HookPoint()\n",
       "      )\n",
       "      (hook_attn_in): HookPoint()\n",
       "      (hook_q_input): HookPoint()\n",
       "      (hook_k_input): HookPoint()\n",
       "      (hook_v_input): HookPoint()\n",
       "      (hook_mlp_in): HookPoint()\n",
       "      (hook_attn_out): HookPoint()\n",
       "      (hook_mlp_out): HookPoint()\n",
       "      (hook_resid_pre): HookPoint()\n",
       "      (hook_resid_mid): HookPoint()\n",
       "      (hook_resid_post): HookPoint()\n",
       "    )\n",
       "  )\n",
       "  (ln_final): LayerNormPre(\n",
       "    (hook_scale): HookPoint()\n",
       "    (hook_normalized): HookPoint()\n",
       "  )\n",
       "  (unembed): Unembed()\n",
       ")>"
      ]
     },
     "execution_count": 17,
     "metadata": {},
     "output_type": "execute_result"
    }
   ],
   "source": [
    "model.hook_points()"
   ]
  },
  {
   "cell_type": "markdown",
   "metadata": {},
   "source": [
    "# Load Connor's SAEs"
   ]
  },
  {
   "cell_type": "code",
   "execution_count": 3,
   "metadata": {},
   "outputs": [],
   "source": [
    "\n",
    "auto_encoder_runs = [\n",
    "    \"gpt2-small_L0_Hcat_z_lr1.20e-03_l11.80e+00_ds24576_bs4096_dc1.00e-06_rsanthropic_rie25000_nr4_v9\",\n",
    "    \"gpt2-small_L1_Hcat_z_lr1.20e-03_l18.00e-01_ds24576_bs4096_dc1.00e-06_rsanthropic_rie25000_nr4_v5\",\n",
    "    \"gpt2-small_L2_Hcat_z_lr1.20e-03_l11.00e+00_ds24576_bs4096_dc1.00e-06_rsanthropic_rie25000_nr4_v4\",\n",
    "    \"gpt2-small_L3_Hcat_z_lr1.20e-03_l19.00e-01_ds24576_bs4096_dc1.00e-06_rsanthropic_rie25000_nr4_v9\",\n",
    "    \"gpt2-small_L4_Hcat_z_lr1.20e-03_l11.10e+00_ds24576_bs4096_dc1.00e-06_rsanthropic_rie25000_nr4_v7\",\n",
    "    \"gpt2-small_L5_Hcat_z_lr1.20e-03_l11.00e+00_ds49152_bs4096_dc1.00e-06_rsanthropic_rie25000_nr4_v9\",\n",
    "    \"gpt2-small_L6_Hcat_z_lr1.20e-03_l11.10e+00_ds24576_bs4096_dc1.00e-06_rsanthropic_rie25000_nr4_v9\",\n",
    "    \"gpt2-small_L7_Hcat_z_lr1.20e-03_l11.10e+00_ds49152_bs4096_dc1.00e-06_rsanthropic_rie25000_nr4_v9\",\n",
    "    \"gpt2-small_L8_Hcat_z_lr1.20e-03_l11.30e+00_ds24576_bs4096_dc1.00e-05_rsanthropic_rie25000_nr4_v6\",\n",
    "    \"gpt2-small_L9_Hcat_z_lr1.20e-03_l11.20e+00_ds24576_bs4096_dc1.00e-06_rsanthropic_rie25000_nr4_v9\",\n",
    "    \"gpt2-small_L10_Hcat_z_lr1.20e-03_l11.30e+00_ds24576_bs4096_dc1.00e-05_rsanthropic_rie25000_nr4_v9\",\n",
    "    \"gpt2-small_L11_Hcat_z_lr1.20e-03_l13.00e+00_ds24576_bs4096_dc3.16e-06_rsanthropic_rie25000_nr4_v9\",\n",
    "][:2]\n",
    "\n",
    "hf_repo = \"ckkissane/attn-saes-gpt2-small-all-layers\"\n",
    "\n",
    "gpt2_sae = {}\n",
    "for auto_encoder_run in auto_encoder_runs:\n",
    "    attn_sae_cfg = download_file_from_hf(hf_repo, f\"{auto_encoder_run}_cfg.json\")\n",
    "    cfg = utils.AttnToHookedCfg(attn_sae_cfg)\n",
    "\n",
    "    state_dict = download_file_from_hf(hf_repo, f\"{auto_encoder_run}.pt\", force_is_torch=True)\n",
    "\n",
    "    hooked_sae = HookedSAE(cfg)\n",
    "    hooked_sae.load_state_dict(state_dict)\n",
    "\n",
    "    gpt2_sae[cfg.hook_name] = hooked_sae\n"
   ]
  },
  {
   "cell_type": "code",
   "execution_count": null,
   "metadata": {},
   "outputs": [],
   "source": [
    "\n",
    "auto_encoder_runs = [\n",
    "    \"gpt2-small_L0_Hcat_z_lr1.20e-03_l11.80e+00_ds24576_bs4096_dc1.00e-06_rsanthropic_rie25000_nr4_v9\",\n",
    "    \"gpt2-small_L1_Hcat_z_lr1.20e-03_l18.00e-01_ds24576_bs4096_dc1.00e-06_rsanthropic_rie25000_nr4_v5\",\n",
    "    \"gpt2-small_L2_Hcat_z_lr1.20e-03_l11.00e+00_ds24576_bs4096_dc1.00e-06_rsanthropic_rie25000_nr4_v4\",\n",
    "    \"gpt2-small_L3_Hcat_z_lr1.20e-03_l19.00e-01_ds24576_bs4096_dc1.00e-06_rsanthropic_rie25000_nr4_v9\",\n",
    "    \"gpt2-small_L4_Hcat_z_lr1.20e-03_l11.10e+00_ds24576_bs4096_dc1.00e-06_rsanthropic_rie25000_nr4_v7\",\n",
    "    \"gpt2-small_L5_Hcat_z_lr1.20e-03_l11.00e+00_ds49152_bs4096_dc1.00e-06_rsanthropic_rie25000_nr4_v9\",\n",
    "    \"gpt2-small_L6_Hcat_z_lr1.20e-03_l11.10e+00_ds24576_bs4096_dc1.00e-06_rsanthropic_rie25000_nr4_v9\",\n",
    "    \"gpt2-small_L7_Hcat_z_lr1.20e-03_l11.10e+00_ds49152_bs4096_dc1.00e-06_rsanthropic_rie25000_nr4_v9\",\n",
    "    \"gpt2-small_L8_Hcat_z_lr1.20e-03_l11.30e+00_ds24576_bs4096_dc1.00e-05_rsanthropic_rie25000_nr4_v6\",\n",
    "    \"gpt2-small_L9_Hcat_z_lr1.20e-03_l11.20e+00_ds24576_bs4096_dc1.00e-06_rsanthropic_rie25000_nr4_v9\",\n",
    "    \"gpt2-small_L10_Hcat_z_lr1.20e-03_l11.30e+00_ds24576_bs4096_dc1.00e-05_rsanthropic_rie25000_nr4_v9\",\n",
    "    \"gpt2-small_L11_Hcat_z_lr1.20e-03_l13.00e+00_ds24576_bs4096_dc3.16e-06_rsanthropic_rie25000_nr4_v9\",\n",
    "][:2]\n",
    "\n",
    "hf_repo = \"ckkissane/attn-saes-gpt2-small-all-layers\"\n",
    "\n",
    "gpt2_sae = {}\n",
    "for auto_encoder_run in auto_encoder_runs:\n",
    "    attn_sae_cfg = download_file_from_hf(hf_repo, f\"{auto_encoder_run}_cfg.json\")\n",
    "    cfg = utils.AttnToHookedCfg(attn_sae_cfg)\n",
    "\n",
    "    state_dict = download_file_from_hf(hf_repo, f\"{auto_encoder_run}.pt\", force_is_torch=True)\n",
    "\n",
    "    hooked_sae = HookedSAE(cfg)\n",
    "    hooked_sae.load_state_dict(state_dict)\n",
    "\n",
    "    gpt2_sae[cfg.hook_name] = hooked_sae\n"
   ]
  },
  {
   "cell_type": "code",
   "execution_count": null,
   "metadata": {},
   "outputs": [],
   "source": [
    "convert_connor_rob_sae_to_our_saelens_format()"
   ]
  },
  {
   "cell_type": "code",
   "execution_count": 55,
   "metadata": {},
   "outputs": [
    {
     "ename": "RuntimeError",
     "evalue": "Error(s) in loading state_dict for HookedSAE:\n\tMissing key(s) in state_dict: \"cfg.b_enc\", \"cfg.W_dec\", \"cfg.W_enc\", \"cfg.b_dec\", \"cfg.scaling_factor\". \n\tUnexpected key(s) in state_dict: \"scaling_factor\". ",
     "output_type": "error",
     "traceback": [
      "\u001b[0;31m---------------------------------------------------------------------------\u001b[0m",
      "\u001b[0;31mRuntimeError\u001b[0m                              Traceback (most recent call last)",
      "\u001b[0;32m/tmp/ipykernel_10867/3236798432.py\u001b[0m in \u001b[0;36m<module>\u001b[0;34m\u001b[0m\n\u001b[1;32m      8\u001b[0m \u001b[0mcfg\u001b[0m \u001b[0;34m=\u001b[0m \u001b[0mconvert_connor_rob_sae_to_our_saelens_format\u001b[0m\u001b[0;34m(\u001b[0m\u001b[0mstate_dict\u001b[0m\u001b[0;34m,\u001b[0m \u001b[0mcfg\u001b[0m\u001b[0;34m)\u001b[0m\u001b[0;34m\u001b[0m\u001b[0;34m\u001b[0m\u001b[0m\n\u001b[1;32m      9\u001b[0m \u001b[0mhooked_sae\u001b[0m \u001b[0;34m=\u001b[0m \u001b[0mHookedSAE\u001b[0m\u001b[0;34m(\u001b[0m\u001b[0mcfg\u001b[0m\u001b[0;34m)\u001b[0m\u001b[0;34m\u001b[0m\u001b[0;34m\u001b[0m\u001b[0m\n\u001b[0;32m---> 10\u001b[0;31m \u001b[0mhooked_sae\u001b[0m\u001b[0;34m.\u001b[0m\u001b[0mload_state_dict\u001b[0m\u001b[0;34m(\u001b[0m\u001b[0mstate_dict\u001b[0m\u001b[0;34m)\u001b[0m\u001b[0;34m\u001b[0m\u001b[0;34m\u001b[0m\u001b[0m\n\u001b[0m",
      "\u001b[0;32m/usr/lib/python3/dist-packages/torch/nn/modules/module.py\u001b[0m in \u001b[0;36mload_state_dict\u001b[0;34m(self, state_dict, strict)\u001b[0m\n\u001b[1;32m   2039\u001b[0m \u001b[0;34m\u001b[0m\u001b[0m\n\u001b[1;32m   2040\u001b[0m         \u001b[0;32mif\u001b[0m \u001b[0mlen\u001b[0m\u001b[0;34m(\u001b[0m\u001b[0merror_msgs\u001b[0m\u001b[0;34m)\u001b[0m \u001b[0;34m>\u001b[0m \u001b[0;36m0\u001b[0m\u001b[0;34m:\u001b[0m\u001b[0;34m\u001b[0m\u001b[0;34m\u001b[0m\u001b[0m\n\u001b[0;32m-> 2041\u001b[0;31m             raise RuntimeError('Error(s) in loading state_dict for {}:\\n\\t{}'.format(\n\u001b[0m\u001b[1;32m   2042\u001b[0m                                self.__class__.__name__, \"\\n\\t\".join(error_msgs)))\n\u001b[1;32m   2043\u001b[0m         \u001b[0;32mreturn\u001b[0m \u001b[0m_IncompatibleKeys\u001b[0m\u001b[0;34m(\u001b[0m\u001b[0mmissing_keys\u001b[0m\u001b[0;34m,\u001b[0m \u001b[0munexpected_keys\u001b[0m\u001b[0;34m)\u001b[0m\u001b[0;34m\u001b[0m\u001b[0;34m\u001b[0m\u001b[0m\n",
      "\u001b[0;31mRuntimeError\u001b[0m: Error(s) in loading state_dict for HookedSAE:\n\tMissing key(s) in state_dict: \"cfg.b_enc\", \"cfg.W_dec\", \"cfg.W_enc\", \"cfg.b_dec\", \"cfg.scaling_factor\". \n\tUnexpected key(s) in state_dict: \"scaling_factor\". "
     ]
    }
   ],
   "source": [
    "cfg = utils.download_file_from_hf(\"ckkissane/tinystories-1M-SAES\", f\"concat-z-gelu-21-l1-lr-sweep-3/gelu-2l_L1_Hcat_z_lr1.00e-03_l12.00e+00_ds16384_bs4096_dc1.00e-07_rie50000_nr4_v78_cfg.json\")\n",
    "state_dict = utils.download_file_from_hf(\n",
    "    \"ckkissane/tinystories-1M-SAES\", \n",
    "    f\"concat-z-gelu-21-l1-lr-sweep-3/gelu-2l_L1_Hcat_z_lr1.00e-03_l12.00e+00_ds16384_bs4096_dc1.00e-07_rie50000_nr4_v78.pt\", force_is_torch=True)\n",
    "\n",
    "# Scaling factor isn't in there...\n",
    "state_dict['scaling_factor'] = t.zeros(16384) + 1.0\n",
    "cfg = convert_connor_rob_sae_to_our_saelens_format(state_dict, cfg)\n",
    "hooked_sae = HookedSAE(cfg)\n",
    "hooked_sae.load_state_dict(state_dict)"
   ]
  },
  {
   "cell_type": "code",
   "execution_count": 54,
   "metadata": {},
   "outputs": [
    {
     "data": {
      "text/plain": [
       "SparseAutoencoder(\n",
       "  (activation_fn): ReLU()\n",
       "  (hook_sae_in): HookPoint()\n",
       "  (hook_hidden_pre): HookPoint()\n",
       "  (hook_hidden_post): HookPoint()\n",
       "  (hook_sae_out): HookPoint()\n",
       ")"
      ]
     },
     "execution_count": 54,
     "metadata": {},
     "output_type": "execute_result"
    }
   ],
   "source": [
    "cfg"
   ]
  },
  {
   "cell_type": "code",
   "execution_count": 53,
   "metadata": {},
   "outputs": [
    {
     "data": {
      "text/plain": [
       "OrderedDict([('W_enc',\n",
       "              tensor([[ 0.2044, -0.0199,  0.0279,  ...,  0.0148, -0.1189, -0.0596],\n",
       "                      [ 0.3211,  0.1868, -0.1152,  ..., -0.0468, -0.0330,  0.0839],\n",
       "                      [-0.1102,  0.0113, -0.2738,  ..., -0.0475,  0.2933,  0.0236],\n",
       "                      ...,\n",
       "                      [ 0.1117, -0.0707, -0.0317,  ..., -0.1070,  0.0881, -0.0343],\n",
       "                      [ 0.2446, -0.0421, -0.3265,  ...,  0.2763,  0.3841, -0.0037],\n",
       "                      [ 0.2897,  0.0543,  0.1597,  ..., -0.1054, -0.0634,  0.0200]])),\n",
       "             ('W_dec',\n",
       "              tensor([[ 3.7850e-02,  1.5909e-02,  6.2841e-02,  ...,  3.6816e-02,\n",
       "                        7.6473e-02,  2.6904e-02],\n",
       "                      [-2.7682e-02,  4.9892e-02, -1.8354e-02,  ..., -2.5450e-02,\n",
       "                        3.8812e-02,  1.5600e-02],\n",
       "                      [-3.2753e-02, -6.8971e-03, -6.3753e-02,  ..., -5.1496e-02,\n",
       "                       -6.2393e-02,  5.6357e-02],\n",
       "                      ...,\n",
       "                      [-4.8899e-02, -2.4470e-02,  9.0868e-03,  ..., -6.3808e-02,\n",
       "                        3.2733e-01, -6.0334e-02],\n",
       "                      [ 1.9097e-04, -1.3462e-02, -1.0087e-02,  ..., -7.9443e-04,\n",
       "                       -4.2982e-03,  6.9143e-04],\n",
       "                      [ 7.2475e-02, -6.1008e-02,  2.2043e-02,  ..., -3.5905e-02,\n",
       "                        2.4664e-02, -5.9496e-02]])),\n",
       "             ('b_enc',\n",
       "              tensor([-6.0150, -4.3255, -5.3510,  ..., -1.7084, -3.3299, -2.0004])),\n",
       "             ('b_dec',\n",
       "              tensor([ 2.9475e-01,  4.3998e-01, -6.3292e-01, -4.8324e-02, -1.3911e-01,\n",
       "                       4.1454e-01, -9.2677e-02,  2.8746e-01,  1.4192e-01, -3.8640e-01,\n",
       "                      -1.8876e-01, -1.9363e-01,  2.5886e-01,  3.1635e-01,  3.0164e-01,\n",
       "                      -1.0904e-01, -2.1674e-01, -3.1289e-02,  3.1714e-01,  2.9907e-01,\n",
       "                      -1.8555e-01, -2.4097e-01, -1.4336e-01, -3.5192e-01,  5.8457e-02,\n",
       "                       7.9334e-01,  1.0346e-01, -1.1331e-01,  9.1581e-02, -3.8290e-01,\n",
       "                       1.2952e-01,  5.2771e-03, -2.8817e-01,  7.9212e-02, -1.0821e-01,\n",
       "                       1.2214e-01, -1.0368e-01, -2.3639e-01,  3.3960e-02,  8.6037e-02,\n",
       "                      -3.0832e-01, -4.3953e-01,  1.3017e-01,  1.8704e-01, -5.3036e-02,\n",
       "                       2.0282e-01,  8.3266e-03,  3.7137e-01,  4.8790e-01,  3.0437e-01,\n",
       "                      -5.4991e-02,  1.4188e-01, -6.0886e-01,  5.6002e-01,  3.6623e-01,\n",
       "                      -2.3382e-01,  1.4166e-01,  2.3899e-01, -4.4904e-01,  2.2261e-01,\n",
       "                      -2.2606e-01, -1.8635e-01,  6.0129e-02, -3.6031e-01,  3.9775e-02,\n",
       "                      -4.5243e-02,  2.3978e-01,  3.6054e-01, -1.6353e-01, -8.1514e-01,\n",
       "                       2.3013e-01,  4.8699e-01,  3.8609e-01,  7.0021e-02,  2.8686e-01,\n",
       "                       7.0540e-01,  4.0490e-01, -7.7019e-02, -2.7827e-01,  2.4031e-01,\n",
       "                      -5.3879e-02,  1.8116e-01, -3.1896e-01,  3.1176e-01,  6.3371e-01,\n",
       "                      -2.5748e-01,  1.2694e-01,  7.2285e-02,  4.0107e-01, -9.9735e-02,\n",
       "                      -2.1439e-01,  1.2995e-01,  4.9055e-01, -2.4368e-01, -2.3948e-02,\n",
       "                       9.3517e-01,  5.9982e-01,  1.1603e-02,  1.0849e-01,  3.3062e-01,\n",
       "                       1.1858e-01, -2.9250e-02,  1.5679e-02, -4.2077e-01,  1.1761e+00,\n",
       "                       5.3495e-01,  3.7823e-02, -1.5862e-01, -1.9310e-01, -1.0072e+00,\n",
       "                       6.1855e-01, -6.1457e-02,  1.6161e-01, -8.0207e-02, -4.7201e-01,\n",
       "                      -5.5316e-02,  4.6116e-01,  3.9831e-01, -6.5872e-01, -7.6528e-02,\n",
       "                       3.3248e-02,  3.1819e-02, -2.1141e-01,  2.6039e-01,  1.7241e-01,\n",
       "                      -4.1060e-01,  2.0729e-01,  4.6139e-01,  1.6979e-02, -2.1269e-01,\n",
       "                       1.3250e-01, -4.0630e-01, -5.2156e-01,  1.6588e-01, -2.7566e-01,\n",
       "                       3.2647e-01, -3.3785e-01, -3.8454e-01,  1.6424e-02,  3.2765e-01,\n",
       "                       5.9297e-02, -3.4703e-01,  4.8032e-02,  2.2887e-01, -8.9471e-02,\n",
       "                       1.9115e-01, -1.3278e-01, -1.0202e-01,  6.0975e-01, -1.3317e-01,\n",
       "                       8.3574e-02, -9.9688e-02,  3.2798e-01, -1.9881e-01,  2.7907e-01,\n",
       "                       2.3909e-01, -2.4756e-01,  3.5423e-01,  1.4393e-01,  1.8925e-01,\n",
       "                      -1.6145e-01, -4.2633e-01,  3.6148e-01,  1.8836e-01, -6.9628e-01,\n",
       "                      -6.5044e-01, -8.3979e-02, -3.4731e-01,  4.8295e-01, -1.2426e-01,\n",
       "                      -7.4651e-02, -6.5530e-02,  7.9232e-02, -1.1449e-01,  2.6874e-01,\n",
       "                       7.5311e-01, -4.8310e-01, -3.5463e-01, -3.4796e-01, -3.0081e-01,\n",
       "                      -3.2870e-01, -2.6786e-01, -4.9048e-01, -6.0963e-01,  4.1460e-01,\n",
       "                      -4.5408e-02, -5.0259e-01, -6.5589e-02,  2.6524e-01, -3.0397e-01,\n",
       "                       1.6461e-01,  2.2794e-01,  2.3491e-01,  2.8287e-01, -1.8984e-01,\n",
       "                       2.8794e-01,  1.1415e-01, -2.0646e-01,  9.5015e-02,  2.8584e-01,\n",
       "                       2.7506e-01,  1.2924e-01,  4.4332e-01,  3.5063e-01,  5.5960e-02,\n",
       "                       8.3192e-02,  2.0520e-01,  7.9206e-02, -2.4744e-01,  1.6296e-01,\n",
       "                      -1.3878e-01,  4.6864e-01, -5.1968e-02, -1.4836e-01,  3.7613e-02,\n",
       "                      -1.3859e-02, -6.5073e-02, -5.3297e-01, -4.1821e-01,  9.1152e-02,\n",
       "                       1.0548e-02,  3.0774e-01,  1.8965e-01, -4.0314e-01,  7.9080e-02,\n",
       "                       7.8198e-01, -4.4115e-01, -3.8602e-01,  9.9343e-02,  1.9913e-01,\n",
       "                      -9.6721e-02, -2.7199e-01, -5.1986e-01,  3.5472e-01,  3.5698e-01,\n",
       "                       4.2954e-01,  4.0457e-01,  1.5997e-01,  2.5885e-01, -6.8419e-02,\n",
       "                       5.3749e-01,  8.5408e-02, -3.9369e-01, -2.0222e-01, -6.5532e-03,\n",
       "                      -2.2771e-01, -7.5003e-02, -5.4506e-01,  5.3519e-02,  5.6025e-02,\n",
       "                      -4.4034e-01, -5.1548e-01, -1.8773e-01, -4.0504e-01,  1.0614e-02,\n",
       "                       2.2071e-01, -3.0615e-01,  4.1098e-01, -2.0795e-01, -9.6503e-02,\n",
       "                      -6.9599e-01, -1.1494e-03,  1.0043e-01,  4.1789e-01,  2.1497e-01,\n",
       "                      -9.3256e-02,  3.0881e-01, -3.3189e-01, -2.0080e-01, -7.2304e-02,\n",
       "                       2.1119e-02, -2.3015e-01, -2.1956e-01, -7.9414e-01, -3.1701e-01,\n",
       "                       9.3802e-02, -5.3629e-01,  1.3069e-01, -3.5648e-01,  1.9806e-01,\n",
       "                      -4.3100e-01, -3.0339e-01,  8.7380e-02, -7.8571e-01,  9.8904e-01,\n",
       "                      -1.2345e-01, -1.0401e-02, -3.4553e-01, -5.5954e-01,  1.8835e-01,\n",
       "                       2.2674e-01,  2.7617e-02, -6.4769e-02,  2.2709e-01, -2.1101e-02,\n",
       "                      -2.2638e-01,  3.9078e-01,  3.0382e-01, -6.7358e-02,  3.9219e-01,\n",
       "                       3.0494e-01,  1.1042e-01,  2.6763e-01, -1.4677e-01, -3.0119e-02,\n",
       "                      -2.2323e-01, -2.7485e-01, -1.2057e-01,  1.0730e-01,  1.4948e-01,\n",
       "                      -5.5858e-01,  1.9673e-02, -3.1785e-01,  3.7014e-02, -1.7230e-01,\n",
       "                       1.4077e-01,  8.3375e-02,  2.1714e-01,  1.4268e-01,  5.8456e-02,\n",
       "                      -1.2612e-01,  3.8114e-02, -4.3159e-01, -6.5984e-03, -2.4510e-01,\n",
       "                       1.6078e-01,  2.4844e-01,  4.1847e-02, -1.1101e-01,  5.4229e-02,\n",
       "                      -6.4670e-03, -1.8401e-01, -2.9318e-01,  5.7873e-02, -3.7964e-02,\n",
       "                       7.3478e-02,  1.0967e-01,  1.5992e-01,  2.2167e-01,  9.2443e-02,\n",
       "                      -1.7761e-02,  2.3935e-01, -6.7947e-02,  2.2110e-01,  9.2986e-02,\n",
       "                       1.2250e-01,  3.6119e-02, -9.6263e-02,  3.2661e-01,  2.3932e-02,\n",
       "                       2.4701e-01,  1.1336e-01, -3.0190e-01, -1.4386e-01,  1.7559e-01,\n",
       "                       2.6827e-01, -1.7410e-02,  2.5120e-01,  7.0272e-03,  1.0052e-02,\n",
       "                      -1.6398e-01, -3.6441e-01,  1.1736e+00,  2.6235e-01, -3.3751e-01,\n",
       "                      -1.6844e-01,  2.0276e-01, -1.2308e-01, -5.7073e-02, -6.0870e-03,\n",
       "                      -1.8238e-01, -1.1789e-01,  1.3617e-01,  2.4380e-01,  6.2796e-02,\n",
       "                      -8.6934e-04, -1.1153e-01, -3.5367e-01,  2.1279e-01, -3.0681e-02,\n",
       "                      -2.9319e-01, -1.9439e-02, -1.3579e-01,  1.9568e-02, -1.5682e-01,\n",
       "                       2.4051e-01,  3.1989e-01,  2.4211e-01,  5.1832e-01, -1.7241e-01,\n",
       "                       2.6599e-01, -2.8173e-01, -4.2175e-02, -1.0159e-01,  1.3251e-01,\n",
       "                      -1.2709e-01,  4.2281e-01,  3.3646e-01,  4.9610e-01,  6.1637e-02,\n",
       "                       2.9226e-01,  2.7950e-04, -1.8826e-01, -8.5839e-02, -1.9689e-01,\n",
       "                       1.9913e-01,  1.6044e-01,  1.8232e-01, -9.5096e-02,  1.9048e-01,\n",
       "                       5.2331e-03, -2.2706e-01, -2.6953e-01, -4.7139e-02, -1.5587e-01,\n",
       "                       1.7449e-01, -1.7095e-01,  2.0730e-01,  3.3417e-01, -7.1994e-02,\n",
       "                      -2.7121e-01, -1.1719e-01,  1.4473e-01, -1.5510e-01, -9.8123e-02,\n",
       "                      -5.2040e-01, -3.4525e-01, -1.7865e-02, -3.9929e-01,  1.8869e-01,\n",
       "                       2.3390e-01,  9.8094e-02, -1.5361e-01,  3.4351e-02, -1.0890e-01,\n",
       "                       8.6289e-02, -3.4310e-01,  3.9160e-01, -2.6007e-01,  4.9358e-02,\n",
       "                      -8.1195e-02, -1.6848e-01,  3.1032e-01,  2.3889e-01, -4.6421e-02,\n",
       "                      -3.6554e-02, -1.2202e-01,  3.5633e-01, -1.8690e-01, -4.2133e-02,\n",
       "                       4.0843e-01,  1.4050e-01,  8.7525e-02, -1.5966e-01,  2.2362e-01,\n",
       "                       4.7545e-01, -1.6467e-01, -1.9449e-02, -2.1445e-01, -1.1083e-01,\n",
       "                       3.1547e-01,  2.8572e-03, -7.3811e-02, -9.9294e-02, -3.1108e-01,\n",
       "                      -7.7140e-02, -1.9436e-02, -3.7492e-01, -1.0701e-01,  3.8888e-01,\n",
       "                       1.7644e-01, -2.9748e-01,  1.4703e-01, -1.3503e-01, -8.2773e-02,\n",
       "                      -3.2295e-01, -4.2516e-01,  1.5103e-01, -5.5121e-02, -1.3091e-01,\n",
       "                      -2.4309e-01,  3.2830e-01,  4.1301e-01,  2.6350e-02, -5.6407e-02,\n",
       "                      -4.7107e-02, -3.8476e-02,  5.3189e-01, -4.5338e-02,  6.7695e-03,\n",
       "                       2.2510e-01, -1.2433e-01,  1.1702e-01, -3.8516e-01, -4.6056e-02,\n",
       "                       1.2795e-02,  1.0926e-01, -8.0553e-02, -2.3377e-01,  2.6943e-01,\n",
       "                       4.0049e-01,  1.0033e-01, -2.7906e-01,  2.5254e-01,  1.5239e-01,\n",
       "                      -6.1315e-01,  4.7106e-01,  9.7470e-02, -2.2808e-02,  2.8031e-01,\n",
       "                       3.5855e-02,  3.4515e-03])),\n",
       "             ('scaling_factor', tensor([1., 1., 1.,  ..., 1., 1., 1.]))])"
      ]
     },
     "execution_count": 53,
     "metadata": {},
     "output_type": "execute_result"
    }
   ],
   "source": [
    "state_dict"
   ]
  },
  {
   "cell_type": "code",
   "execution_count": 46,
   "metadata": {},
   "outputs": [
    {
     "ename": "KeyError",
     "evalue": "'scaling_factor'",
     "output_type": "error",
     "traceback": [
      "\u001b[0;31m---------------------------------------------------------------------------\u001b[0m",
      "\u001b[0;31mKeyError\u001b[0m                                  Traceback (most recent call last)",
      "\u001b[0;32m/tmp/ipykernel_10867/4160962898.py\u001b[0m in \u001b[0;36m<module>\u001b[0;34m\u001b[0m\n\u001b[0;32m----> 1\u001b[0;31m \u001b[0mstate_dict\u001b[0m\u001b[0;34m[\u001b[0m\u001b[0;34m'scaling_factor'\u001b[0m\u001b[0;34m]\u001b[0m\u001b[0;34m\u001b[0m\u001b[0;34m\u001b[0m\u001b[0m\n\u001b[0m",
      "\u001b[0;31mKeyError\u001b[0m: 'scaling_factor'"
     ]
    }
   ],
   "source": []
  },
  {
   "cell_type": "code",
   "execution_count": 43,
   "metadata": {},
   "outputs": [
    {
     "data": {
      "text/plain": [
       "dict_keys(['seed', 'batch_size', 'buffer_mult', 'lr', 'num_tokens', 'l1_coeff', 'beta1', 'beta2', 'dict_mult', 'seq_len', 'enc_dtype', 'model_name', 'site', 'layer', 'device', 'reinit', 'head', 'concat_heads', 'dead_direction_cutoff', 're_init_every', 'anthropic_resample_last', 'resample_factor', 'num_resamples', 'wandb_project_name', 'wandb_entity', 'save_state_dict_every', 'model_batch_size', 'buffer_size', 'buffer_batches', 'act_name', 'act_size', 'dict_size', 'name'])"
      ]
     },
     "execution_count": 43,
     "metadata": {},
     "output_type": "execute_result"
    }
   ],
   "source": [
    "cfg.keys()"
   ]
  },
  {
   "cell_type": "code",
   "execution_count": 34,
   "metadata": {},
   "outputs": [
    {
     "ename": "KeyError",
     "evalue": "'state_dict'",
     "output_type": "error",
     "traceback": [
      "\u001b[0;31m---------------------------------------------------------------------------\u001b[0m",
      "\u001b[0;31mKeyError\u001b[0m                                  Traceback (most recent call last)",
      "\u001b[0;32m/tmp/ipykernel_10867/91669102.py\u001b[0m in \u001b[0;36m<module>\u001b[0;34m\u001b[0m\n\u001b[0;32m----> 1\u001b[0;31m \u001b[0mstate_dict\u001b[0m\u001b[0;34m[\u001b[0m\u001b[0;34m'state_dict'\u001b[0m\u001b[0;34m]\u001b[0m\u001b[0;34m\u001b[0m\u001b[0;34m\u001b[0m\u001b[0m\n\u001b[0m",
      "\u001b[0;31mKeyError\u001b[0m: 'state_dict'"
     ]
    }
   ],
   "source": [
    "state_dict['state_dict']"
   ]
  },
  {
   "cell_type": "code",
   "execution_count": 30,
   "metadata": {},
   "outputs": [
    {
     "data": {
      "text/plain": [
       "'/home/ubuntu/.cache/huggingface/hub/models--ckkissane--tinystories-1M-SAES/snapshots/d801037ff55db27e9c1e9d11c9003e51fbfc52aa/./concat-z-gelu-21-l1-lr-sweep-3/gelu-2l_L1_Hcat_z_lr1.00e-03_l12.00e+00_ds16384_bs4096_dc1.00e-07_rie50000_nr4_v78.pt'"
      ]
     },
     "execution_count": 30,
     "metadata": {},
     "output_type": "execute_result"
    }
   ],
   "source": [
    "state_dict"
   ]
  },
  {
   "cell_type": "code",
   "execution_count": 28,
   "metadata": {},
   "outputs": [
    {
     "data": {
      "text/plain": [
       "{'seed': 49,\n",
       " 'batch_size': 4096,\n",
       " 'buffer_mult': 384,\n",
       " 'lr': 0.001,\n",
       " 'num_tokens': 2000000000,\n",
       " 'l1_coeff': 2.0,\n",
       " 'beta1': 0.9,\n",
       " 'beta2': 0.99,\n",
       " 'dict_mult': 32,\n",
       " 'seq_len': 128,\n",
       " 'enc_dtype': 'fp32',\n",
       " 'model_name': 'gelu-2l',\n",
       " 'site': 'z',\n",
       " 'layer': 1,\n",
       " 'device': 'cuda',\n",
       " 'reinit': 'reinit',\n",
       " 'head': 'cat',\n",
       " 'concat_heads': True,\n",
       " 'dead_direction_cutoff': 1e-07,\n",
       " 're_init_every': 50000,\n",
       " 'anthropic_resample_last': 25000,\n",
       " 'resample_factor': 0.01,\n",
       " 'num_resamples': 4,\n",
       " 'wandb_project_name': 'concat-z-gelu-21-l1-lr-sweep-3',\n",
       " 'wandb_entity': 'ckkissane',\n",
       " 'save_state_dict_every': 50000,\n",
       " 'model_batch_size': 512,\n",
       " 'buffer_size': 1572864,\n",
       " 'buffer_batches': 12288,\n",
       " 'act_name': 'blocks.1.attn.hook_z',\n",
       " 'act_size': 512,\n",
       " 'dict_size': 16384,\n",
       " 'name': 'gelu-2l_1_16384_z'}"
      ]
     },
     "execution_count": 28,
     "metadata": {},
     "output_type": "execute_result"
    }
   ],
   "source": [
    "state_dict"
   ]
  },
  {
   "cell_type": "code",
   "execution_count": 24,
   "metadata": {},
   "outputs": [],
   "source": []
  },
  {
   "cell_type": "code",
   "execution_count": 20,
   "metadata": {},
   "outputs": [
    {
     "data": {
      "text/plain": [
       "4096"
      ]
     },
     "execution_count": 20,
     "metadata": {},
     "output_type": "execute_result"
    }
   ],
   "source": [
    "cfg['batch_size']"
   ]
  },
  {
   "cell_type": "code",
   "execution_count": 12,
   "metadata": {},
   "outputs": [
    {
     "ename": "AssertionError",
     "evalue": "",
     "output_type": "error",
     "traceback": [
      "\u001b[0;31m---------------------------------------------------------------------------\u001b[0m",
      "\u001b[0;31mAssertionError\u001b[0m                            Traceback (most recent call last)",
      "\u001b[0;32m/tmp/ipykernel_10867/689612026.py\u001b[0m in \u001b[0;36m<module>\u001b[0;34m\u001b[0m\n\u001b[1;32m      1\u001b[0m \u001b[0mauto_encoder_run\u001b[0m \u001b[0;34m=\u001b[0m \u001b[0;34m\"tinystories-1M-SAES/concat-z-gelu-21-l1-lr-sweep-3/gelu-2l_L1_Hcat_z_lr1.00e-03_l12.00e+00_ds16384_bs4096_dc1.00e-07_rie50000_nr4_v78\"\u001b[0m\u001b[0;34m\u001b[0m\u001b[0;34m\u001b[0m\u001b[0m\n\u001b[1;32m      2\u001b[0m \u001b[0;34m\u001b[0m\u001b[0m\n\u001b[0;32m----> 3\u001b[0;31m \u001b[0mencoder\u001b[0m \u001b[0;34m=\u001b[0m \u001b[0mAutoEncoder\u001b[0m\u001b[0;34m.\u001b[0m\u001b[0mload_from_hf\u001b[0m\u001b[0;34m(\u001b[0m\u001b[0mauto_encoder_run\u001b[0m\u001b[0;34m)\u001b[0m\u001b[0;34m\u001b[0m\u001b[0;34m\u001b[0m\u001b[0m\n\u001b[0m",
      "\u001b[0;32m~/.local/lib/python3.10/site-packages/sae_vis/model_fns.py\u001b[0m in \u001b[0;36mload_from_hf\u001b[0;34m(cls, version)\u001b[0m\n\u001b[1;32m    110\u001b[0m         \u001b[0mversion\u001b[0m \u001b[0;36m47\u001b[0m \u001b[0;32mis\u001b[0m \u001b[0mthe\u001b[0m \u001b[0mfinal\u001b[0m \u001b[0mcheckpoint\u001b[0m \u001b[0mof\u001b[0m \u001b[0mthe\u001b[0m \u001b[0msecond\u001b[0m \u001b[0mautoencoder\u001b[0m \u001b[0mrun\u001b[0m\u001b[0;34m.\u001b[0m\u001b[0;34m\u001b[0m\u001b[0;34m\u001b[0m\u001b[0m\n\u001b[1;32m    111\u001b[0m         \"\"\"\n\u001b[0;32m--> 112\u001b[0;31m         \u001b[0;32massert\u001b[0m \u001b[0mversion\u001b[0m \u001b[0;32min\u001b[0m \u001b[0;34m[\u001b[0m\u001b[0;34m\"run1\"\u001b[0m\u001b[0;34m,\u001b[0m \u001b[0;34m\"run2\"\u001b[0m\u001b[0;34m]\u001b[0m\u001b[0;34m\u001b[0m\u001b[0;34m\u001b[0m\u001b[0m\n\u001b[0m\u001b[1;32m    113\u001b[0m         \u001b[0mversion_num\u001b[0m \u001b[0;34m=\u001b[0m \u001b[0;36m25\u001b[0m \u001b[0;32mif\u001b[0m \u001b[0mversion\u001b[0m \u001b[0;34m==\u001b[0m \u001b[0;34m\"run1\"\u001b[0m \u001b[0;32melse\u001b[0m \u001b[0;36m47\u001b[0m\u001b[0;34m\u001b[0m\u001b[0;34m\u001b[0m\u001b[0m\n\u001b[1;32m    114\u001b[0m \u001b[0;34m\u001b[0m\u001b[0m\n",
      "\u001b[0;31mAssertionError\u001b[0m: "
     ]
    }
   ],
   "source": [
    "auto_encoder_run = \"tinystories-1M-SAES/concat-z-gelu-21-l1-lr-sweep-3/gelu-2l_L1_Hcat_z_lr1.00e-03_l12.00e+00_ds16384_bs4096_dc1.00e-07_rie50000_nr4_v78\"\n",
    "\n",
    "encoder = AutoEncoder.load_from_hf(auto_encoder_run)"
   ]
  },
  {
   "cell_type": "code",
   "execution_count": 13,
   "metadata": {},
   "outputs": [
    {
     "ename": "AssertionError",
     "evalue": "",
     "output_type": "error",
     "traceback": [
      "\u001b[0;31m---------------------------------------------------------------------------\u001b[0m",
      "\u001b[0;31mAssertionError\u001b[0m                            Traceback (most recent call last)",
      "\u001b[0;32m/tmp/ipykernel_10867/1866306067.py\u001b[0m in \u001b[0;36m<module>\u001b[0;34m\u001b[0m\n\u001b[1;32m      1\u001b[0m \u001b[0mauto_encoder_run\u001b[0m \u001b[0;34m=\u001b[0m \u001b[0;34m\"ckkissane/tinystories-1M-SAES/concat-z-gelu-21-l1-lr-sweep-3/gelu-2l_L1_Hcat_z_lr1.00e-03_l12.00e+00_ds16384_bs4096_dc1.00e-07_rie50000_nr4_v78\"\u001b[0m\u001b[0;34m\u001b[0m\u001b[0;34m\u001b[0m\u001b[0m\n\u001b[1;32m      2\u001b[0m \u001b[0;34m\u001b[0m\u001b[0m\n\u001b[0;32m----> 3\u001b[0;31m \u001b[0mencoder\u001b[0m \u001b[0;34m=\u001b[0m \u001b[0mAutoEncoder\u001b[0m\u001b[0;34m.\u001b[0m\u001b[0mload_from_hf\u001b[0m\u001b[0;34m(\u001b[0m\u001b[0mauto_encoder_run\u001b[0m\u001b[0;34m)\u001b[0m\u001b[0;34m\u001b[0m\u001b[0;34m\u001b[0m\u001b[0m\n\u001b[0m",
      "\u001b[0;32m~/.local/lib/python3.10/site-packages/sae_vis/model_fns.py\u001b[0m in \u001b[0;36mload_from_hf\u001b[0;34m(cls, version)\u001b[0m\n\u001b[1;32m    110\u001b[0m         \u001b[0mversion\u001b[0m \u001b[0;36m47\u001b[0m \u001b[0;32mis\u001b[0m \u001b[0mthe\u001b[0m \u001b[0mfinal\u001b[0m \u001b[0mcheckpoint\u001b[0m \u001b[0mof\u001b[0m \u001b[0mthe\u001b[0m \u001b[0msecond\u001b[0m \u001b[0mautoencoder\u001b[0m \u001b[0mrun\u001b[0m\u001b[0;34m.\u001b[0m\u001b[0;34m\u001b[0m\u001b[0;34m\u001b[0m\u001b[0m\n\u001b[1;32m    111\u001b[0m         \"\"\"\n\u001b[0;32m--> 112\u001b[0;31m         \u001b[0;32massert\u001b[0m \u001b[0mversion\u001b[0m \u001b[0;32min\u001b[0m \u001b[0;34m[\u001b[0m\u001b[0;34m\"run1\"\u001b[0m\u001b[0;34m,\u001b[0m \u001b[0;34m\"run2\"\u001b[0m\u001b[0;34m]\u001b[0m\u001b[0;34m\u001b[0m\u001b[0;34m\u001b[0m\u001b[0m\n\u001b[0m\u001b[1;32m    113\u001b[0m         \u001b[0mversion_num\u001b[0m \u001b[0;34m=\u001b[0m \u001b[0;36m25\u001b[0m \u001b[0;32mif\u001b[0m \u001b[0mversion\u001b[0m \u001b[0;34m==\u001b[0m \u001b[0;34m\"run1\"\u001b[0m \u001b[0;32melse\u001b[0m \u001b[0;36m47\u001b[0m\u001b[0;34m\u001b[0m\u001b[0;34m\u001b[0m\u001b[0m\n\u001b[1;32m    114\u001b[0m \u001b[0;34m\u001b[0m\u001b[0m\n",
      "\u001b[0;31mAssertionError\u001b[0m: "
     ]
    }
   ],
   "source": [
    "auto_encoder_run = \"ckkissane/tinystories-1M-SAES/concat-z-gelu-21-l1-lr-sweep-3/gelu-2l_L1_Hcat_z_lr1.00e-03_l12.00e+00_ds16384_bs4096_dc1.00e-07_rie50000_nr4_v78\"\n",
    "\n",
    "encoder = AutoEncoder.load_from_hf(auto_encoder_run)"
   ]
  },
  {
   "cell_type": "code",
   "execution_count": 4,
   "metadata": {},
   "outputs": [
    {
     "data": {
      "text/plain": [
       "{'blocks.0.attn.hook_z': HookedSAE(\n",
       "   (hook_sae_input): HookPoint()\n",
       "   (hook_sae_acts_pre): HookPoint()\n",
       "   (hook_sae_acts_post): HookPoint()\n",
       "   (hook_sae_recons): HookPoint()\n",
       "   (hook_sae_error): HookPoint()\n",
       "   (hook_sae_output): HookPoint()\n",
       " ),\n",
       " 'blocks.1.attn.hook_z': HookedSAE(\n",
       "   (hook_sae_input): HookPoint()\n",
       "   (hook_sae_acts_pre): HookPoint()\n",
       "   (hook_sae_acts_post): HookPoint()\n",
       "   (hook_sae_recons): HookPoint()\n",
       "   (hook_sae_error): HookPoint()\n",
       "   (hook_sae_output): HookPoint()\n",
       " )}"
      ]
     },
     "execution_count": 4,
     "metadata": {},
     "output_type": "execute_result"
    }
   ],
   "source": [
    "gpt2_sae"
   ]
  },
  {
   "cell_type": "code",
   "execution_count": null,
   "metadata": {},
   "outputs": [],
   "source": []
  }
 ],
 "metadata": {
  "kernelspec": {
   "display_name": "Python 3",
   "language": "python",
   "name": "python3"
  },
  "language_info": {
   "codemirror_mode": {
    "name": "ipython",
    "version": 3
   },
   "file_extension": ".py",
   "mimetype": "text/x-python",
   "name": "python",
   "nbconvert_exporter": "python",
   "pygments_lexer": "ipython3",
   "version": "3.10.12"
  }
 },
 "nbformat": 4,
 "nbformat_minor": 2
}
